{
 "cells": [
  {
   "cell_type": "code",
   "execution_count": 23,
   "id": "c49ec7a0",
   "metadata": {},
   "outputs": [],
   "source": [
    "import pandas as pd\n",
    "import requests"
   ]
  },
  {
   "cell_type": "code",
   "execution_count": 24,
   "id": "2bb7b853",
   "metadata": {},
   "outputs": [],
   "source": [
    "pd.set_option('display.max_columns', None)\n",
    "pd.set_option('display.max_rows', None)\n"
   ]
  },
  {
   "cell_type": "code",
   "execution_count": 25,
   "id": "0273a236",
   "metadata": {},
   "outputs": [
    {
     "data": {
      "application/vnd.microsoft.datawrangler.viewer.v0+json": {
       "columns": [
        {
         "name": "index",
         "rawType": "int64",
         "type": "integer"
        },
        {
         "name": "location.name",
         "rawType": "object",
         "type": "string"
        },
        {
         "name": "location.region",
         "rawType": "object",
         "type": "string"
        },
        {
         "name": "location.country",
         "rawType": "object",
         "type": "string"
        },
        {
         "name": "location.lat",
         "rawType": "float64",
         "type": "float"
        },
        {
         "name": "location.lon",
         "rawType": "float64",
         "type": "float"
        },
        {
         "name": "location.tz_id",
         "rawType": "object",
         "type": "string"
        },
        {
         "name": "location.localtime_epoch",
         "rawType": "int64",
         "type": "integer"
        },
        {
         "name": "location.localtime",
         "rawType": "object",
         "type": "string"
        },
        {
         "name": "current.last_updated_epoch",
         "rawType": "int64",
         "type": "integer"
        },
        {
         "name": "current.last_updated",
         "rawType": "object",
         "type": "string"
        },
        {
         "name": "current.temp_c",
         "rawType": "float64",
         "type": "float"
        },
        {
         "name": "current.temp_f",
         "rawType": "float64",
         "type": "float"
        },
        {
         "name": "current.is_day",
         "rawType": "int64",
         "type": "integer"
        },
        {
         "name": "current.condition.text",
         "rawType": "object",
         "type": "string"
        },
        {
         "name": "current.condition.icon",
         "rawType": "object",
         "type": "string"
        },
        {
         "name": "current.condition.code",
         "rawType": "int64",
         "type": "integer"
        },
        {
         "name": "current.wind_mph",
         "rawType": "float64",
         "type": "float"
        },
        {
         "name": "current.wind_kph",
         "rawType": "float64",
         "type": "float"
        },
        {
         "name": "current.wind_degree",
         "rawType": "int64",
         "type": "integer"
        },
        {
         "name": "current.wind_dir",
         "rawType": "object",
         "type": "string"
        },
        {
         "name": "current.pressure_mb",
         "rawType": "float64",
         "type": "float"
        },
        {
         "name": "current.pressure_in",
         "rawType": "float64",
         "type": "float"
        },
        {
         "name": "current.precip_mm",
         "rawType": "float64",
         "type": "float"
        },
        {
         "name": "current.precip_in",
         "rawType": "float64",
         "type": "float"
        },
        {
         "name": "current.humidity",
         "rawType": "int64",
         "type": "integer"
        },
        {
         "name": "current.cloud",
         "rawType": "int64",
         "type": "integer"
        },
        {
         "name": "current.feelslike_c",
         "rawType": "float64",
         "type": "float"
        },
        {
         "name": "current.feelslike_f",
         "rawType": "float64",
         "type": "float"
        },
        {
         "name": "current.windchill_c",
         "rawType": "float64",
         "type": "float"
        },
        {
         "name": "current.windchill_f",
         "rawType": "float64",
         "type": "float"
        },
        {
         "name": "current.heatindex_c",
         "rawType": "float64",
         "type": "float"
        },
        {
         "name": "current.heatindex_f",
         "rawType": "float64",
         "type": "float"
        },
        {
         "name": "current.dewpoint_c",
         "rawType": "float64",
         "type": "float"
        },
        {
         "name": "current.dewpoint_f",
         "rawType": "float64",
         "type": "float"
        },
        {
         "name": "current.vis_km",
         "rawType": "float64",
         "type": "float"
        },
        {
         "name": "current.vis_miles",
         "rawType": "float64",
         "type": "float"
        },
        {
         "name": "current.uv",
         "rawType": "float64",
         "type": "float"
        },
        {
         "name": "current.gust_mph",
         "rawType": "float64",
         "type": "float"
        },
        {
         "name": "current.gust_kph",
         "rawType": "float64",
         "type": "float"
        },
        {
         "name": "forecast.forecastday",
         "rawType": "object",
         "type": "unknown"
        }
       ],
       "ref": "ea247319-d6ca-4a47-b5c8-1dca915a3384",
       "rows": [
        [
         "0",
         "Curitiba",
         "Parana",
         "Brazil",
         "-25.4167",
         "-49.25",
         "America/Sao_Paulo",
         "1761506642",
         "2025-10-26 16:24",
         "1761506100",
         "2025-10-26 16:15",
         "22.3",
         "72.1",
         "1",
         "Chuva fraca",
         "//cdn.weatherapi.com/weather/64x64/day/296.png",
         "1183",
         "4.0",
         "6.5",
         "233",
         "SW",
         "1017.0",
         "30.03",
         "0.25",
         "0.01",
         "69",
         "75",
         "24.7",
         "76.4",
         "17.4",
         "63.4",
         "17.4",
         "63.4",
         "15.1",
         "59.2",
         "8.0",
         "4.0",
         "0.5",
         "5.7",
         "9.3",
         "[{'date': '2025-10-26', 'date_epoch': 1761436800, 'day': {'maxtemp_c': 20.4, 'maxtemp_f': 68.8, 'mintemp_c': 15.6, 'mintemp_f': 60.0, 'avgtemp_c': 17.8, 'avgtemp_f': 64.0, 'maxwind_mph': 5.6, 'maxwind_kph': 9.0, 'totalprecip_mm': 2.32, 'totalprecip_in': 0.09, 'totalsnow_cm': 0.0, 'avgvis_km': 8.0, 'avgvis_miles': 4.0, 'avghumidity': 73, 'daily_will_it_rain': 1, 'daily_chance_of_rain': 87, 'daily_will_it_snow': 0, 'daily_chance_of_snow': 0, 'condition': {'text': 'Possibilidade de chuva irregular', 'icon': '//cdn.weatherapi.com/weather/64x64/day/176.png', 'code': 1063}, 'uv': 1.5}, 'astro': {'sunrise': '05:33 AM', 'sunset': '06:29 PM', 'moonrise': '08:46 AM', 'moonset': '11:14 PM', 'moon_phase': 'Waxing Crescent', 'moon_illumination': 17, 'is_moon_up': 0, 'is_sun_up': 0}, 'hour': [{'time_epoch': 1761447600, 'time': '2025-10-26 00:00', 'temp_c': 17.5, 'temp_f': 63.5, 'is_day': 0, 'condition': {'text': 'Céu limpo', 'icon': '//cdn.weatherapi.com/weather/64x64/night/113.png', 'code': 1000}, 'wind_mph': 3.6, 'wind_kph': 5.8, 'wind_degree': 19, 'wind_dir': 'NNE', 'pressure_mb': 1014.0, 'pressure_in': 29.94, 'precip_mm': 0.0, 'precip_in': 0.0, 'snow_cm': 0.0, 'humidity': 57, 'cloud': 4, 'feelslike_c': 17.5, 'feelslike_f': 63.5, 'windchill_c': 17.5, 'windchill_f': 63.5, 'heatindex_c': 17.5, 'heatindex_f': 63.5, 'dewpoint_c': 9.0, 'dewpoint_f': 48.1, 'will_it_rain': 0, 'chance_of_rain': 0, 'will_it_snow': 0, 'chance_of_snow': 0, 'vis_km': 10.0, 'vis_miles': 6.0, 'gust_mph': 7.5, 'gust_kph': 12.1, 'uv': 0}, {'time_epoch': 1761451200, 'time': '2025-10-26 01:00', 'temp_c': 17.3, 'temp_f': 63.1, 'is_day': 0, 'condition': {'text': 'Céu limpo', 'icon': '//cdn.weatherapi.com/weather/64x64/night/113.png', 'code': 1000}, 'wind_mph': 3.6, 'wind_kph': 5.8, 'wind_degree': 41, 'wind_dir': 'NE', 'pressure_mb': 1013.0, 'pressure_in': 29.92, 'precip_mm': 0.0, 'precip_in': 0.0, 'snow_cm': 0.0, 'humidity': 58, 'cloud': 4, 'feelslike_c': 17.3, 'feelslike_f': 63.1, 'windchill_c': 17.3, 'windchill_f': 63.1, 'heatindex_c': 17.3, 'heatindex_f': 63.1, 'dewpoint_c': 8.9, 'dewpoint_f': 48.1, 'will_it_rain': 0, 'chance_of_rain': 0, 'will_it_snow': 0, 'chance_of_snow': 0, 'vis_km': 10.0, 'vis_miles': 6.0, 'gust_mph': 7.5, 'gust_kph': 12.1, 'uv': 0}, {'time_epoch': 1761454800, 'time': '2025-10-26 02:00', 'temp_c': 17.2, 'temp_f': 62.9, 'is_day': 0, 'condition': {'text': 'Céu limpo', 'icon': '//cdn.weatherapi.com/weather/64x64/night/113.png', 'code': 1000}, 'wind_mph': 2.9, 'wind_kph': 4.7, 'wind_degree': 30, 'wind_dir': 'NNE', 'pressure_mb': 1013.0, 'pressure_in': 29.91, 'precip_mm': 0.0, 'precip_in': 0.0, 'snow_cm': 0.0, 'humidity': 58, 'cloud': 4, 'feelslike_c': 17.2, 'feelslike_f': 62.9, 'windchill_c': 17.2, 'windchill_f': 62.9, 'heatindex_c': 17.2, 'heatindex_f': 62.9, 'dewpoint_c': 9.0, 'dewpoint_f': 48.1, 'will_it_rain': 0, 'chance_of_rain': 0, 'will_it_snow': 0, 'chance_of_snow': 0, 'vis_km': 10.0, 'vis_miles': 6.0, 'gust_mph': 6.1, 'gust_kph': 9.8, 'uv': 0}, {'time_epoch': 1761458400, 'time': '2025-10-26 03:00', 'temp_c': 16.9, 'temp_f': 62.4, 'is_day': 0, 'condition': {'text': 'Céu limpo', 'icon': '//cdn.weatherapi.com/weather/64x64/night/113.png', 'code': 1000}, 'wind_mph': 2.2, 'wind_kph': 3.6, 'wind_degree': 24, 'wind_dir': 'NNE', 'pressure_mb': 1013.0, 'pressure_in': 29.92, 'precip_mm': 0.0, 'precip_in': 0.0, 'snow_cm': 0.0, 'humidity': 60, 'cloud': 5, 'feelslike_c': 16.9, 'feelslike_f': 62.4, 'windchill_c': 16.9, 'windchill_f': 62.4, 'heatindex_c': 16.9, 'heatindex_f': 62.4, 'dewpoint_c': 9.0, 'dewpoint_f': 48.2, 'will_it_rain': 0, 'chance_of_rain': 0, 'will_it_snow': 0, 'chance_of_snow': 0, 'vis_km': 10.0, 'vis_miles': 6.0, 'gust_mph': 4.7, 'gust_kph': 7.6, 'uv': 0}, {'time_epoch': 1761462000, 'time': '2025-10-26 04:00', 'temp_c': 16.9, 'temp_f': 62.4, 'is_day': 0, 'condition': {'text': 'Céu limpo', 'icon': '//cdn.weatherapi.com/weather/64x64/night/113.png', 'code': 1000}, 'wind_mph': 2.9, 'wind_kph': 4.7, 'wind_degree': 47, 'wind_dir': 'NE', 'pressure_mb': 1014.0, 'pressure_in': 29.93, 'precip_mm': 0.0, 'precip_in': 0.0, 'snow_cm': 0.0, 'humidity': 60, 'cloud': 8, 'feelslike_c': 16.9, 'feelslike_f': 62.4, 'windchill_c': 16.9, 'windchill_f': 62.4, 'heatindex_c': 16.9, 'heatindex_f': 62.4, 'dewpoint_c': 9.0, 'dewpoint_f': 48.2, 'will_it_rain': 0, 'chance_of_rain': 0, 'will_it_snow': 0, 'chance_of_snow': 0, 'vis_km': 10.0, 'vis_miles': 6.0, 'gust_mph': 6.1, 'gust_kph': 9.8, 'uv': 0}, {'time_epoch': 1761465600, 'time': '2025-10-26 05:00', 'temp_c': 17.6, 'temp_f': 63.6, 'is_day': 0, 'condition': {'text': 'Céu limpo', 'icon': '//cdn.weatherapi.com/weather/64x64/night/113.png', 'code': 1000}, 'wind_mph': 0.7, 'wind_kph': 1.1, 'wind_degree': 184, 'wind_dir': 'S', 'pressure_mb': 1014.0, 'pressure_in': 29.95, 'precip_mm': 0.0, 'precip_in': 0.0, 'snow_cm': 0.0, 'humidity': 58, 'cloud': 14, 'feelslike_c': 17.6, 'feelslike_f': 63.6, 'windchill_c': 17.6, 'windchill_f': 63.6, 'heatindex_c': 17.6, 'heatindex_f': 63.6, 'dewpoint_c': 9.2, 'dewpoint_f': 48.5, 'will_it_rain': 0, 'chance_of_rain': 0, 'will_it_snow': 0, 'chance_of_snow': 0, 'vis_km': 10.0, 'vis_miles': 6.0, 'gust_mph': 1.4, 'gust_kph': 2.3, 'uv': 0}, {'time_epoch': 1761469200, 'time': '2025-10-26 06:00', 'temp_c': 17.8, 'temp_f': 64.1, 'is_day': 1, 'condition': {'text': 'Sol', 'icon': '//cdn.weatherapi.com/weather/64x64/day/113.png', 'code': 1000}, 'wind_mph': 4.5, 'wind_kph': 7.2, 'wind_degree': 228, 'wind_dir': 'SW', 'pressure_mb': 1016.0, 'pressure_in': 30.0, 'precip_mm': 0.0, 'precip_in': 0.0, 'snow_cm': 0.0, 'humidity': 59, 'cloud': 22, 'feelslike_c': 17.8, 'feelslike_f': 64.1, 'windchill_c': 17.8, 'windchill_f': 64.1, 'heatindex_c': 17.8, 'heatindex_f': 64.1, 'dewpoint_c': 9.7, 'dewpoint_f': 49.5, 'will_it_rain': 0, 'chance_of_rain': 0, 'will_it_snow': 0, 'chance_of_snow': 0, 'vis_km': 10.0, 'vis_miles': 6.0, 'gust_mph': 7.6, 'gust_kph': 12.2, 'uv': 0.0}, {'time_epoch': 1761472800, 'time': '2025-10-26 07:00', 'temp_c': 18.3, 'temp_f': 65.0, 'is_day': 1, 'condition': {'text': 'Possibilidade de chuva irregular', 'icon': '//cdn.weatherapi.com/weather/64x64/day/176.png', 'code': 1063}, 'wind_mph': 5.6, 'wind_kph': 9.0, 'wind_degree': 250, 'wind_dir': 'WSW', 'pressure_mb': 1017.0, 'pressure_in': 30.03, 'precip_mm': 0.01, 'precip_in': 0.0, 'snow_cm': 0.0, 'humidity': 61, 'cloud': 81, 'feelslike_c': 18.3, 'feelslike_f': 65.0, 'windchill_c': 18.3, 'windchill_f': 65.0, 'heatindex_c': 18.3, 'heatindex_f': 65.0, 'dewpoint_c': 10.8, 'dewpoint_f': 51.5, 'will_it_rain': 0, 'chance_of_rain': 66, 'will_it_snow': 0, 'chance_of_snow': 0, 'vis_km': 10.0, 'vis_miles': 6.0, 'gust_mph': 8.0, 'gust_kph': 12.9, 'uv': 0.6}, {'time_epoch': 1761476400, 'time': '2025-10-26 08:00', 'temp_c': 19.4, 'temp_f': 66.9, 'is_day': 1, 'condition': {'text': 'Parcialmente nublado', 'icon': '//cdn.weatherapi.com/weather/64x64/day/116.png', 'code': 1003}, 'wind_mph': 2.9, 'wind_kph': 4.7, 'wind_degree': 200, 'wind_dir': 'SSW', 'pressure_mb': 1017.0, 'pressure_in': 30.03, 'precip_mm': 0.0, 'precip_in': 0.0, 'snow_cm': 0.0, 'humidity': 59, 'cloud': 62, 'feelslike_c': 19.4, 'feelslike_f': 66.9, 'windchill_c': 19.4, 'windchill_f': 66.9, 'heatindex_c': 19.4, 'heatindex_f': 66.9, 'dewpoint_c': 11.3, 'dewpoint_f': 52.4, 'will_it_rain': 0, 'chance_of_rain': 0, 'will_it_snow': 0, 'chance_of_snow': 0, 'vis_km': 10.0, 'vis_miles': 6.0, 'gust_mph': 3.7, 'gust_kph': 6.0, 'uv': 1.1}, {'time_epoch': 1761480000, 'time': '2025-10-26 09:00', 'temp_c': 20.0, 'temp_f': 67.9, 'is_day': 1, 'condition': {'text': 'Parcialmente nublado', 'icon': '//cdn.weatherapi.com/weather/64x64/day/116.png', 'code': 1003}, 'wind_mph': 3.1, 'wind_kph': 5.0, 'wind_degree': 196, 'wind_dir': 'SSW', 'pressure_mb': 1016.0, 'pressure_in': 30.01, 'precip_mm': 0.0, 'precip_in': 0.0, 'snow_cm': 0.0, 'humidity': 59, 'cloud': 34, 'feelslike_c': 20.0, 'feelslike_f': 67.9, 'windchill_c': 20.0, 'windchill_f': 67.9, 'heatindex_c': 20.0, 'heatindex_f': 67.9, 'dewpoint_c': 11.8, 'dewpoint_f': 53.2, 'will_it_rain': 0, 'chance_of_rain': 0, 'will_it_snow': 0, 'chance_of_snow': 0, 'vis_km': 10.0, 'vis_miles': 6.0, 'gust_mph': 4.0, 'gust_kph': 6.4, 'uv': 1.3}, {'time_epoch': 1761483600, 'time': '2025-10-26 10:00', 'temp_c': 20.1, 'temp_f': 68.2, 'is_day': 1, 'condition': {'text': 'Parcialmente nublado', 'icon': '//cdn.weatherapi.com/weather/64x64/day/116.png', 'code': 1003}, 'wind_mph': 2.7, 'wind_kph': 4.3, 'wind_degree': 232, 'wind_dir': 'SW', 'pressure_mb': 1016.0, 'pressure_in': 30.0, 'precip_mm': 0.0, 'precip_in': 0.0, 'snow_cm': 0.0, 'humidity': 61, 'cloud': 31, 'feelslike_c': 20.1, 'feelslike_f': 68.2, 'windchill_c': 20.1, 'windchill_f': 68.2, 'heatindex_c': 20.1, 'heatindex_f': 68.2, 'dewpoint_c': 12.3, 'dewpoint_f': 54.1, 'will_it_rain': 0, 'chance_of_rain': 0, 'will_it_snow': 0, 'chance_of_snow': 0, 'vis_km': 10.0, 'vis_miles': 6.0, 'gust_mph': 3.4, 'gust_kph': 5.5, 'uv': 2.3}, {'time_epoch': 1761487200, 'time': '2025-10-26 11:00', 'temp_c': 20.4, 'temp_f': 68.8, 'is_day': 1, 'condition': {'text': 'Parcialmente nublado', 'icon': '//cdn.weatherapi.com/weather/64x64/day/116.png', 'code': 1003}, 'wind_mph': 1.3, 'wind_kph': 2.2, 'wind_degree': 204, 'wind_dir': 'SSW', 'pressure_mb': 1015.0, 'pressure_in': 29.98, 'precip_mm': 0.0, 'precip_in': 0.0, 'snow_cm': 0.0, 'humidity': 61, 'cloud': 35, 'feelslike_c': 20.4, 'feelslike_f': 68.8, 'windchill_c': 20.4, 'windchill_f': 68.8, 'heatindex_c': 20.4, 'heatindex_f': 68.8, 'dewpoint_c': 12.7, 'dewpoint_f': 54.9, 'will_it_rain': 0, 'chance_of_rain': 0, 'will_it_snow': 0, 'chance_of_snow': 0, 'vis_km': 10.0, 'vis_miles': 6.0, 'gust_mph': 1.8, 'gust_kph': 2.8, 'uv': 9.1}, {'time_epoch': 1761490800, 'time': '2025-10-26 12:00', 'temp_c': 19.8, 'temp_f': 67.6, 'is_day': 1, 'condition': {'text': 'Parcialmente nublado', 'icon': '//cdn.weatherapi.com/weather/64x64/day/116.png', 'code': 1003}, 'wind_mph': 1.8, 'wind_kph': 2.9, 'wind_degree': 251, 'wind_dir': 'WSW', 'pressure_mb': 1015.0, 'pressure_in': 29.98, 'precip_mm': 0.0, 'precip_in': 0.0, 'snow_cm': 0.0, 'humidity': 66, 'cloud': 50, 'feelslike_c': 19.8, 'feelslike_f': 67.6, 'windchill_c': 19.8, 'windchill_f': 67.6, 'heatindex_c': 19.8, 'heatindex_f': 67.6, 'dewpoint_c': 13.2, 'dewpoint_f': 55.7, 'will_it_rain': 0, 'chance_of_rain': 0, 'will_it_snow': 0, 'chance_of_snow': 0, 'vis_km': 10.0, 'vis_miles': 6.0, 'gust_mph': 2.6, 'gust_kph': 4.2, 'uv': 9.2}, {'time_epoch': 1761494400, 'time': '2025-10-26 13:00', 'temp_c': 19.9, 'temp_f': 67.8, 'is_day': 1, 'condition': {'text': 'Parcialmente nublado', 'icon': '//cdn.weatherapi.com/weather/64x64/day/116.png', 'code': 1003}, 'wind_mph': 3.1, 'wind_kph': 5.0, 'wind_degree': 200, 'wind_dir': 'SSW', 'pressure_mb': 1014.0, 'pressure_in': 29.95, 'precip_mm': 0.0, 'precip_in': 0.0, 'snow_cm': 0.0, 'humidity': 67, 'cloud': 42, 'feelslike_c': 19.9, 'feelslike_f': 67.8, 'windchill_c': 19.9, 'windchill_f': 67.8, 'heatindex_c': 19.9, 'heatindex_f': 67.8, 'dewpoint_c': 13.5, 'dewpoint_f': 56.4, 'will_it_rain': 0, 'chance_of_rain': 0, 'will_it_snow': 0, 'chance_of_snow': 0, 'vis_km': 10.0, 'vis_miles': 6.0, 'gust_mph': 4.4, 'gust_kph': 7.0, 'uv': 4.7}, {'time_epoch': 1761498000, 'time': '2025-10-26 14:00', 'temp_c': 19.4, 'temp_f': 67.0, 'is_day': 1, 'condition': {'text': 'Parcialmente nublado', 'icon': '//cdn.weatherapi.com/weather/64x64/day/116.png', 'code': 1003}, 'wind_mph': 5.1, 'wind_kph': 8.3, 'wind_degree': 226, 'wind_dir': 'SW', 'pressure_mb': 1014.0, 'pressure_in': 29.95, 'precip_mm': 0.0, 'precip_in': 0.0, 'snow_cm': 0.0, 'humidity': 71, 'cloud': 36, 'feelslike_c': 19.4, 'feelslike_f': 67.0, 'windchill_c': 19.4, 'windchill_f': 67.0, 'heatindex_c': 19.4, 'heatindex_f': 67.0, 'dewpoint_c': 13.9, 'dewpoint_f': 57.1, 'will_it_rain': 0, 'chance_of_rain': 0, 'will_it_snow': 0, 'chance_of_snow': 0, 'vis_km': 10.0, 'vis_miles': 6.0, 'gust_mph': 6.9, 'gust_kph': 11.2, 'uv': 3.1}, {'time_epoch': 1761501600, 'time': '2025-10-26 15:00', 'temp_c': 18.7, 'temp_f': 65.7, 'is_day': 1, 'condition': {'text': 'Possibilidade de chuva irregular', 'icon': '//cdn.weatherapi.com/weather/64x64/day/176.png', 'code': 1063}, 'wind_mph': 5.4, 'wind_kph': 8.6, 'wind_degree': 230, 'wind_dir': 'SW', 'pressure_mb': 1014.0, 'pressure_in': 29.95, 'precip_mm': 0.01, 'precip_in': 0.0, 'snow_cm': 0.0, 'humidity': 76, 'cloud': 80, 'feelslike_c': 18.7, 'feelslike_f': 65.7, 'windchill_c': 18.7, 'windchill_f': 65.7, 'heatindex_c': 18.7, 'heatindex_f': 65.7, 'dewpoint_c': 14.4, 'dewpoint_f': 57.9, 'will_it_rain': 1, 'chance_of_rain': 81, 'will_it_snow': 0, 'chance_of_snow': 0, 'vis_km': 10.0, 'vis_miles': 6.0, 'gust_mph': 7.0, 'gust_kph': 11.3, 'uv': 2.7}, {'time_epoch': 1761505200, 'time': '2025-10-26 16:00', 'temp_c': 22.3, 'temp_f': 72.1, 'is_day': 1, 'condition': {'text': 'Chuva fraca', 'icon': '//cdn.weatherapi.com/weather/64x64/day/296.png', 'code': 1183}, 'wind_mph': 4.0, 'wind_kph': 6.5, 'wind_degree': 233, 'wind_dir': 'SW', 'pressure_mb': 1017.0, 'pressure_in': 30.03, 'precip_mm': 0.25, 'precip_in': 0.01, 'snow_cm': 0.0, 'humidity': 69, 'cloud': 75, 'feelslike_c': 17.4, 'feelslike_f': 63.4, 'windchill_c': 17.4, 'windchill_f': 63.4, 'heatindex_c': 17.4, 'heatindex_f': 63.4, 'dewpoint_c': 15.1, 'dewpoint_f': 59.2, 'will_it_rain': 1, 'chance_of_rain': 100, 'will_it_snow': 0, 'chance_of_snow': 0, 'vis_km': 8.0, 'vis_miles': 4.0, 'gust_mph': 5.7, 'gust_kph': 9.3, 'uv': 0.5}, {'time_epoch': 1761508800, 'time': '2025-10-26 17:00', 'temp_c': 16.6, 'temp_f': 61.9, 'is_day': 1, 'condition': {'text': 'Chuva fraca irregular', 'icon': '//cdn.weatherapi.com/weather/64x64/day/293.png', 'code': 1180}, 'wind_mph': 1.3, 'wind_kph': 2.2, 'wind_degree': 357, 'wind_dir': 'N', 'pressure_mb': 1016.0, 'pressure_in': 29.99, 'precip_mm': 1.61, 'precip_in': 0.06, 'snow_cm': 0.0, 'humidity': 95, 'cloud': 74, 'feelslike_c': 16.6, 'feelslike_f': 61.9, 'windchill_c': 16.6, 'windchill_f': 61.9, 'heatindex_c': 16.6, 'heatindex_f': 61.9, 'dewpoint_c': 15.8, 'dewpoint_f': 60.4, 'will_it_rain': 1, 'chance_of_rain': 100, 'will_it_snow': 0, 'chance_of_snow': 0, 'vis_km': 9.0, 'vis_miles': 5.0, 'gust_mph': 2.1, 'gust_kph': 3.4, 'uv': 0.3}, {'time_epoch': 1761512400, 'time': '2025-10-26 18:00', 'temp_c': 16.4, 'temp_f': 61.5, 'is_day': 1, 'condition': {'text': 'Chuvisco', 'icon': '//cdn.weatherapi.com/weather/64x64/day/266.png', 'code': 1153}, 'wind_mph': 2.2, 'wind_kph': 3.6, 'wind_degree': 30, 'wind_dir': 'NNE', 'pressure_mb': 1016.0, 'pressure_in': 29.99, 'precip_mm': 0.32, 'precip_in': 0.01, 'snow_cm': 0.0, 'humidity': 96, 'cloud': 79, 'feelslike_c': 16.4, 'feelslike_f': 61.5, 'windchill_c': 16.4, 'windchill_f': 61.5, 'heatindex_c': 16.4, 'heatindex_f': 61.5, 'dewpoint_c': 15.7, 'dewpoint_f': 60.3, 'will_it_rain': 1, 'chance_of_rain': 100, 'will_it_snow': 0, 'chance_of_snow': 0, 'vis_km': 2.0, 'vis_miles': 1.0, 'gust_mph': 3.7, 'gust_kph': 6.0, 'uv': 0.1}, {'time_epoch': 1761516000, 'time': '2025-10-26 19:00', 'temp_c': 16.3, 'temp_f': 61.4, 'is_day': 0, 'condition': {'text': 'Possibilidade de chuva irregular', 'icon': '//cdn.weatherapi.com/weather/64x64/night/176.png', 'code': 1063}, 'wind_mph': 2.5, 'wind_kph': 4.0, 'wind_degree': 322, 'wind_dir': 'NW', 'pressure_mb': 1015.0, 'pressure_in': 29.98, 'precip_mm': 0.01, 'precip_in': 0.0, 'snow_cm': 0.0, 'humidity': 94, 'cloud': 53, 'feelslike_c': 16.3, 'feelslike_f': 61.4, 'windchill_c': 16.3, 'windchill_f': 61.4, 'heatindex_c': 16.3, 'heatindex_f': 61.4, 'dewpoint_c': 15.3, 'dewpoint_f': 59.5, 'will_it_rain': 1, 'chance_of_rain': 87, 'will_it_snow': 0, 'chance_of_snow': 0, 'vis_km': 10.0, 'vis_miles': 6.0, 'gust_mph': 4.4, 'gust_kph': 7.1, 'uv': 0}, {'time_epoch': 1761519600, 'time': '2025-10-26 20:00', 'temp_c': 15.9, 'temp_f': 60.6, 'is_day': 0, 'condition': {'text': 'Neblina', 'icon': '//cdn.weatherapi.com/weather/64x64/night/143.png', 'code': 1030}, 'wind_mph': 3.6, 'wind_kph': 5.8, 'wind_degree': 60, 'wind_dir': 'ENE', 'pressure_mb': 1015.0, 'pressure_in': 29.97, 'precip_mm': 0.0, 'precip_in': 0.0, 'snow_cm': 0.0, 'humidity': 95, 'cloud': 65, 'feelslike_c': 15.9, 'feelslike_f': 60.6, 'windchill_c': 15.9, 'windchill_f': 60.6, 'heatindex_c': 15.9, 'heatindex_f': 60.6, 'dewpoint_c': 15.1, 'dewpoint_f': 59.1, 'will_it_rain': 0, 'chance_of_rain': 0, 'will_it_snow': 0, 'chance_of_snow': 0, 'vis_km': 2.0, 'vis_miles': 1.0, 'gust_mph': 6.6, 'gust_kph': 10.6, 'uv': 0}, {'time_epoch': 1761523200, 'time': '2025-10-26 21:00', 'temp_c': 15.9, 'temp_f': 60.7, 'is_day': 0, 'condition': {'text': 'Neblina', 'icon': '//cdn.weatherapi.com/weather/64x64/night/143.png', 'code': 1030}, 'wind_mph': 2.2, 'wind_kph': 3.6, 'wind_degree': 10, 'wind_dir': 'N', 'pressure_mb': 1016.0, 'pressure_in': 29.99, 'precip_mm': 0.0, 'precip_in': 0.0, 'snow_cm': 0.0, 'humidity': 95, 'cloud': 54, 'feelslike_c': 15.9, 'feelslike_f': 60.7, 'windchill_c': 15.9, 'windchill_f': 60.7, 'heatindex_c': 15.9, 'heatindex_f': 60.7, 'dewpoint_c': 15.1, 'dewpoint_f': 59.2, 'will_it_rain': 0, 'chance_of_rain': 0, 'will_it_snow': 0, 'chance_of_snow': 0, 'vis_km': 2.0, 'vis_miles': 1.0, 'gust_mph': 3.9, 'gust_kph': 6.3, 'uv': 0}, {'time_epoch': 1761526800, 'time': '2025-10-26 22:00', 'temp_c': 15.7, 'temp_f': 60.2, 'is_day': 0, 'condition': {'text': 'Neblina', 'icon': '//cdn.weatherapi.com/weather/64x64/night/143.png', 'code': 1030}, 'wind_mph': 2.5, 'wind_kph': 4.0, 'wind_degree': 44, 'wind_dir': 'NE', 'pressure_mb': 1016.0, 'pressure_in': 29.99, 'precip_mm': 0.0, 'precip_in': 0.0, 'snow_cm': 0.0, 'humidity': 95, 'cloud': 56, 'feelslike_c': 15.7, 'feelslike_f': 60.2, 'windchill_c': 15.7, 'windchill_f': 60.2, 'heatindex_c': 15.7, 'heatindex_f': 60.2, 'dewpoint_c': 14.9, 'dewpoint_f': 58.9, 'will_it_rain': 0, 'chance_of_rain': 0, 'will_it_snow': 0, 'chance_of_snow': 0, 'vis_km': 2.0, 'vis_miles': 1.0, 'gust_mph': 4.4, 'gust_kph': 7.1, 'uv': 0}, {'time_epoch': 1761530400, 'time': '2025-10-26 23:00', 'temp_c': 15.6, 'temp_f': 60.0, 'is_day': 0, 'condition': {'text': 'Neblina', 'icon': '//cdn.weatherapi.com/weather/64x64/night/143.png', 'code': 1030}, 'wind_mph': 3.6, 'wind_kph': 5.8, 'wind_degree': 58, 'wind_dir': 'ENE', 'pressure_mb': 1015.0, 'pressure_in': 29.98, 'precip_mm': 0.11, 'precip_in': 0.0, 'snow_cm': 0.0, 'humidity': 96, 'cloud': 84, 'feelslike_c': 15.6, 'feelslike_f': 60.0, 'windchill_c': 15.6, 'windchill_f': 60.0, 'heatindex_c': 15.6, 'heatindex_f': 60.0, 'dewpoint_c': 15.0, 'dewpoint_f': 59.0, 'will_it_rain': 1, 'chance_of_rain': 100, 'will_it_snow': 0, 'chance_of_snow': 0, 'vis_km': 2.0, 'vis_miles': 1.0, 'gust_mph': 6.2, 'gust_kph': 9.9, 'uv': 0}]}]"
        ]
       ],
       "shape": {
        "columns": 40,
        "rows": 1
       }
      },
      "text/html": [
       "<div>\n",
       "<style scoped>\n",
       "    .dataframe tbody tr th:only-of-type {\n",
       "        vertical-align: middle;\n",
       "    }\n",
       "\n",
       "    .dataframe tbody tr th {\n",
       "        vertical-align: top;\n",
       "    }\n",
       "\n",
       "    .dataframe thead th {\n",
       "        text-align: right;\n",
       "    }\n",
       "</style>\n",
       "<table border=\"1\" class=\"dataframe\">\n",
       "  <thead>\n",
       "    <tr style=\"text-align: right;\">\n",
       "      <th></th>\n",
       "      <th>location.name</th>\n",
       "      <th>location.region</th>\n",
       "      <th>location.country</th>\n",
       "      <th>location.lat</th>\n",
       "      <th>location.lon</th>\n",
       "      <th>location.tz_id</th>\n",
       "      <th>location.localtime_epoch</th>\n",
       "      <th>location.localtime</th>\n",
       "      <th>current.last_updated_epoch</th>\n",
       "      <th>current.last_updated</th>\n",
       "      <th>current.temp_c</th>\n",
       "      <th>current.temp_f</th>\n",
       "      <th>current.is_day</th>\n",
       "      <th>current.condition.text</th>\n",
       "      <th>current.condition.icon</th>\n",
       "      <th>current.condition.code</th>\n",
       "      <th>current.wind_mph</th>\n",
       "      <th>current.wind_kph</th>\n",
       "      <th>current.wind_degree</th>\n",
       "      <th>current.wind_dir</th>\n",
       "      <th>current.pressure_mb</th>\n",
       "      <th>current.pressure_in</th>\n",
       "      <th>current.precip_mm</th>\n",
       "      <th>current.precip_in</th>\n",
       "      <th>current.humidity</th>\n",
       "      <th>current.cloud</th>\n",
       "      <th>current.feelslike_c</th>\n",
       "      <th>current.feelslike_f</th>\n",
       "      <th>current.windchill_c</th>\n",
       "      <th>current.windchill_f</th>\n",
       "      <th>current.heatindex_c</th>\n",
       "      <th>current.heatindex_f</th>\n",
       "      <th>current.dewpoint_c</th>\n",
       "      <th>current.dewpoint_f</th>\n",
       "      <th>current.vis_km</th>\n",
       "      <th>current.vis_miles</th>\n",
       "      <th>current.uv</th>\n",
       "      <th>current.gust_mph</th>\n",
       "      <th>current.gust_kph</th>\n",
       "      <th>forecast.forecastday</th>\n",
       "    </tr>\n",
       "  </thead>\n",
       "  <tbody>\n",
       "    <tr>\n",
       "      <th>0</th>\n",
       "      <td>Curitiba</td>\n",
       "      <td>Parana</td>\n",
       "      <td>Brazil</td>\n",
       "      <td>-25.4167</td>\n",
       "      <td>-49.25</td>\n",
       "      <td>America/Sao_Paulo</td>\n",
       "      <td>1761506642</td>\n",
       "      <td>2025-10-26 16:24</td>\n",
       "      <td>1761506100</td>\n",
       "      <td>2025-10-26 16:15</td>\n",
       "      <td>22.3</td>\n",
       "      <td>72.1</td>\n",
       "      <td>1</td>\n",
       "      <td>Chuva fraca</td>\n",
       "      <td>//cdn.weatherapi.com/weather/64x64/day/296.png</td>\n",
       "      <td>1183</td>\n",
       "      <td>4.0</td>\n",
       "      <td>6.5</td>\n",
       "      <td>233</td>\n",
       "      <td>SW</td>\n",
       "      <td>1017.0</td>\n",
       "      <td>30.03</td>\n",
       "      <td>0.25</td>\n",
       "      <td>0.01</td>\n",
       "      <td>69</td>\n",
       "      <td>75</td>\n",
       "      <td>24.7</td>\n",
       "      <td>76.4</td>\n",
       "      <td>17.4</td>\n",
       "      <td>63.4</td>\n",
       "      <td>17.4</td>\n",
       "      <td>63.4</td>\n",
       "      <td>15.1</td>\n",
       "      <td>59.2</td>\n",
       "      <td>8.0</td>\n",
       "      <td>4.0</td>\n",
       "      <td>0.5</td>\n",
       "      <td>5.7</td>\n",
       "      <td>9.3</td>\n",
       "      <td>[{'date': '2025-10-26', 'date_epoch': 17614368...</td>\n",
       "    </tr>\n",
       "  </tbody>\n",
       "</table>\n",
       "</div>"
      ],
      "text/plain": [
       "  location.name location.region location.country  location.lat  location.lon  \\\n",
       "0      Curitiba          Parana           Brazil      -25.4167        -49.25   \n",
       "\n",
       "      location.tz_id  location.localtime_epoch location.localtime  \\\n",
       "0  America/Sao_Paulo                1761506642   2025-10-26 16:24   \n",
       "\n",
       "   current.last_updated_epoch current.last_updated  current.temp_c  \\\n",
       "0                  1761506100     2025-10-26 16:15            22.3   \n",
       "\n",
       "   current.temp_f  current.is_day current.condition.text  \\\n",
       "0            72.1               1            Chuva fraca   \n",
       "\n",
       "                           current.condition.icon  current.condition.code  \\\n",
       "0  //cdn.weatherapi.com/weather/64x64/day/296.png                    1183   \n",
       "\n",
       "   current.wind_mph  current.wind_kph  current.wind_degree current.wind_dir  \\\n",
       "0               4.0               6.5                  233               SW   \n",
       "\n",
       "   current.pressure_mb  current.pressure_in  current.precip_mm  \\\n",
       "0               1017.0                30.03               0.25   \n",
       "\n",
       "   current.precip_in  current.humidity  current.cloud  current.feelslike_c  \\\n",
       "0               0.01                69             75                 24.7   \n",
       "\n",
       "   current.feelslike_f  current.windchill_c  current.windchill_f  \\\n",
       "0                 76.4                 17.4                 63.4   \n",
       "\n",
       "   current.heatindex_c  current.heatindex_f  current.dewpoint_c  \\\n",
       "0                 17.4                 63.4                15.1   \n",
       "\n",
       "   current.dewpoint_f  current.vis_km  current.vis_miles  current.uv  \\\n",
       "0                59.2             8.0                4.0         0.5   \n",
       "\n",
       "   current.gust_mph  current.gust_kph  \\\n",
       "0               5.7               9.3   \n",
       "\n",
       "                                forecast.forecastday  \n",
       "0  [{'date': '2025-10-26', 'date_epoch': 17614368...  "
      ]
     },
     "execution_count": 25,
     "metadata": {},
     "output_type": "execute_result"
    }
   ],
   "source": [
    "\n",
    "\n",
    "\n",
    "API_KEY = \"8edf5a3557214b83a8d24412250109\"\n",
    "local = \"Curitiba\"  # pode ser \"Curitiba, Brazil\" ou latitude\n",
    "url = \"http://api.weatherapi.com/v1/forecast.json\"\n",
    "params = {\n",
    "    \"key\": API_KEY,\n",
    "    \"q\": local,\n",
    "    \"lang\": \"pt\",     # opcional: traduz descrições para português\n",
    "    \"aqi\": \"no\"       # opcional: inclui dados de qualidade do ar\n",
    "}\n",
    "\n",
    "try:\n",
    "    response = requests.get(url, params=params)\n",
    "    response.raise_for_status()\n",
    "    dados = response.json()\n",
    "    \n",
    "    # Exemplo de como acessar alguns dados:\n",
    "    # temperatura = dados[\"current\"][\"temp_c\"]\n",
    "    # descricao = dados[\"current\"][\"condition\"][\"text\"]\n",
    "    # umidade = dados[\"current\"][\"humidity\"]\n",
    "    # vento = dados[\"current\"][\"wind_kph\"]\n",
    "\n",
    "    # print(f\"Tempo em {dados['location']['name']}: {descricao.capitalize()}\")\n",
    "    # print(f\"Temperatura: {temperatura} °C\")\n",
    "    # print(f\"Umidade: {umidade}%\")\n",
    "    # print(f\"Vento: {vento} km/h\")\n",
    "   # print(dados)\n",
    "\n",
    "except requests.exceptions.HTTPError as err:\n",
    "    print(f\"Erro HTTP: {err} — código: {response.status_code}\")\n",
    "except ValueError:\n",
    "    print(\"Erro ao decodificar JSON.\")\n",
    "except Exception as e:\n",
    "    print(f\"Ocorreu um erro: {e}\")\n",
    "\n",
    "df = pd.json_normalize(dados)\n",
    "df\n",
    "\n",
    "    \n"
   ]
  },
  {
   "cell_type": "code",
   "execution_count": 26,
   "id": "73462dce",
   "metadata": {},
   "outputs": [
    {
     "data": {
      "application/vnd.microsoft.datawrangler.viewer.v0+json": {
       "columns": [
        {
         "name": "index",
         "rawType": "int64",
         "type": "integer"
        },
        {
         "name": "date",
         "rawType": "object",
         "type": "string"
        },
        {
         "name": "date_epoch",
         "rawType": "int64",
         "type": "integer"
        },
        {
         "name": "hour",
         "rawType": "object",
         "type": "unknown"
        },
        {
         "name": "day.maxtemp_c",
         "rawType": "float64",
         "type": "float"
        },
        {
         "name": "day.maxtemp_f",
         "rawType": "float64",
         "type": "float"
        },
        {
         "name": "day.mintemp_c",
         "rawType": "float64",
         "type": "float"
        },
        {
         "name": "day.mintemp_f",
         "rawType": "float64",
         "type": "float"
        },
        {
         "name": "day.avgtemp_c",
         "rawType": "float64",
         "type": "float"
        },
        {
         "name": "day.avgtemp_f",
         "rawType": "float64",
         "type": "float"
        },
        {
         "name": "day.maxwind_mph",
         "rawType": "float64",
         "type": "float"
        },
        {
         "name": "day.maxwind_kph",
         "rawType": "float64",
         "type": "float"
        },
        {
         "name": "day.totalprecip_mm",
         "rawType": "float64",
         "type": "float"
        },
        {
         "name": "day.totalprecip_in",
         "rawType": "float64",
         "type": "float"
        },
        {
         "name": "day.totalsnow_cm",
         "rawType": "float64",
         "type": "float"
        },
        {
         "name": "day.avgvis_km",
         "rawType": "float64",
         "type": "float"
        },
        {
         "name": "day.avgvis_miles",
         "rawType": "float64",
         "type": "float"
        },
        {
         "name": "day.avghumidity",
         "rawType": "int64",
         "type": "integer"
        },
        {
         "name": "day.daily_will_it_rain",
         "rawType": "int64",
         "type": "integer"
        },
        {
         "name": "day.daily_chance_of_rain",
         "rawType": "int64",
         "type": "integer"
        },
        {
         "name": "day.daily_will_it_snow",
         "rawType": "int64",
         "type": "integer"
        },
        {
         "name": "day.daily_chance_of_snow",
         "rawType": "int64",
         "type": "integer"
        },
        {
         "name": "day.condition.text",
         "rawType": "object",
         "type": "string"
        },
        {
         "name": "day.condition.icon",
         "rawType": "object",
         "type": "string"
        },
        {
         "name": "day.condition.code",
         "rawType": "int64",
         "type": "integer"
        },
        {
         "name": "day.uv",
         "rawType": "float64",
         "type": "float"
        },
        {
         "name": "astro.sunrise",
         "rawType": "object",
         "type": "string"
        },
        {
         "name": "astro.sunset",
         "rawType": "object",
         "type": "string"
        },
        {
         "name": "astro.moonrise",
         "rawType": "object",
         "type": "string"
        },
        {
         "name": "astro.moonset",
         "rawType": "object",
         "type": "string"
        },
        {
         "name": "astro.moon_phase",
         "rawType": "object",
         "type": "string"
        },
        {
         "name": "astro.moon_illumination",
         "rawType": "int64",
         "type": "integer"
        },
        {
         "name": "astro.is_moon_up",
         "rawType": "int64",
         "type": "integer"
        },
        {
         "name": "astro.is_sun_up",
         "rawType": "int64",
         "type": "integer"
        }
       ],
       "ref": "212d007c-0243-4740-96a4-f406f040131b",
       "rows": [
        [
         "0",
         "2025-10-26",
         "1761436800",
         "[{'time_epoch': 1761447600, 'time': '2025-10-26 00:00', 'temp_c': 17.5, 'temp_f': 63.5, 'is_day': 0, 'condition': {'text': 'Céu limpo', 'icon': '//cdn.weatherapi.com/weather/64x64/night/113.png', 'code': 1000}, 'wind_mph': 3.6, 'wind_kph': 5.8, 'wind_degree': 19, 'wind_dir': 'NNE', 'pressure_mb': 1014.0, 'pressure_in': 29.94, 'precip_mm': 0.0, 'precip_in': 0.0, 'snow_cm': 0.0, 'humidity': 57, 'cloud': 4, 'feelslike_c': 17.5, 'feelslike_f': 63.5, 'windchill_c': 17.5, 'windchill_f': 63.5, 'heatindex_c': 17.5, 'heatindex_f': 63.5, 'dewpoint_c': 9.0, 'dewpoint_f': 48.1, 'will_it_rain': 0, 'chance_of_rain': 0, 'will_it_snow': 0, 'chance_of_snow': 0, 'vis_km': 10.0, 'vis_miles': 6.0, 'gust_mph': 7.5, 'gust_kph': 12.1, 'uv': 0}, {'time_epoch': 1761451200, 'time': '2025-10-26 01:00', 'temp_c': 17.3, 'temp_f': 63.1, 'is_day': 0, 'condition': {'text': 'Céu limpo', 'icon': '//cdn.weatherapi.com/weather/64x64/night/113.png', 'code': 1000}, 'wind_mph': 3.6, 'wind_kph': 5.8, 'wind_degree': 41, 'wind_dir': 'NE', 'pressure_mb': 1013.0, 'pressure_in': 29.92, 'precip_mm': 0.0, 'precip_in': 0.0, 'snow_cm': 0.0, 'humidity': 58, 'cloud': 4, 'feelslike_c': 17.3, 'feelslike_f': 63.1, 'windchill_c': 17.3, 'windchill_f': 63.1, 'heatindex_c': 17.3, 'heatindex_f': 63.1, 'dewpoint_c': 8.9, 'dewpoint_f': 48.1, 'will_it_rain': 0, 'chance_of_rain': 0, 'will_it_snow': 0, 'chance_of_snow': 0, 'vis_km': 10.0, 'vis_miles': 6.0, 'gust_mph': 7.5, 'gust_kph': 12.1, 'uv': 0}, {'time_epoch': 1761454800, 'time': '2025-10-26 02:00', 'temp_c': 17.2, 'temp_f': 62.9, 'is_day': 0, 'condition': {'text': 'Céu limpo', 'icon': '//cdn.weatherapi.com/weather/64x64/night/113.png', 'code': 1000}, 'wind_mph': 2.9, 'wind_kph': 4.7, 'wind_degree': 30, 'wind_dir': 'NNE', 'pressure_mb': 1013.0, 'pressure_in': 29.91, 'precip_mm': 0.0, 'precip_in': 0.0, 'snow_cm': 0.0, 'humidity': 58, 'cloud': 4, 'feelslike_c': 17.2, 'feelslike_f': 62.9, 'windchill_c': 17.2, 'windchill_f': 62.9, 'heatindex_c': 17.2, 'heatindex_f': 62.9, 'dewpoint_c': 9.0, 'dewpoint_f': 48.1, 'will_it_rain': 0, 'chance_of_rain': 0, 'will_it_snow': 0, 'chance_of_snow': 0, 'vis_km': 10.0, 'vis_miles': 6.0, 'gust_mph': 6.1, 'gust_kph': 9.8, 'uv': 0}, {'time_epoch': 1761458400, 'time': '2025-10-26 03:00', 'temp_c': 16.9, 'temp_f': 62.4, 'is_day': 0, 'condition': {'text': 'Céu limpo', 'icon': '//cdn.weatherapi.com/weather/64x64/night/113.png', 'code': 1000}, 'wind_mph': 2.2, 'wind_kph': 3.6, 'wind_degree': 24, 'wind_dir': 'NNE', 'pressure_mb': 1013.0, 'pressure_in': 29.92, 'precip_mm': 0.0, 'precip_in': 0.0, 'snow_cm': 0.0, 'humidity': 60, 'cloud': 5, 'feelslike_c': 16.9, 'feelslike_f': 62.4, 'windchill_c': 16.9, 'windchill_f': 62.4, 'heatindex_c': 16.9, 'heatindex_f': 62.4, 'dewpoint_c': 9.0, 'dewpoint_f': 48.2, 'will_it_rain': 0, 'chance_of_rain': 0, 'will_it_snow': 0, 'chance_of_snow': 0, 'vis_km': 10.0, 'vis_miles': 6.0, 'gust_mph': 4.7, 'gust_kph': 7.6, 'uv': 0}, {'time_epoch': 1761462000, 'time': '2025-10-26 04:00', 'temp_c': 16.9, 'temp_f': 62.4, 'is_day': 0, 'condition': {'text': 'Céu limpo', 'icon': '//cdn.weatherapi.com/weather/64x64/night/113.png', 'code': 1000}, 'wind_mph': 2.9, 'wind_kph': 4.7, 'wind_degree': 47, 'wind_dir': 'NE', 'pressure_mb': 1014.0, 'pressure_in': 29.93, 'precip_mm': 0.0, 'precip_in': 0.0, 'snow_cm': 0.0, 'humidity': 60, 'cloud': 8, 'feelslike_c': 16.9, 'feelslike_f': 62.4, 'windchill_c': 16.9, 'windchill_f': 62.4, 'heatindex_c': 16.9, 'heatindex_f': 62.4, 'dewpoint_c': 9.0, 'dewpoint_f': 48.2, 'will_it_rain': 0, 'chance_of_rain': 0, 'will_it_snow': 0, 'chance_of_snow': 0, 'vis_km': 10.0, 'vis_miles': 6.0, 'gust_mph': 6.1, 'gust_kph': 9.8, 'uv': 0}, {'time_epoch': 1761465600, 'time': '2025-10-26 05:00', 'temp_c': 17.6, 'temp_f': 63.6, 'is_day': 0, 'condition': {'text': 'Céu limpo', 'icon': '//cdn.weatherapi.com/weather/64x64/night/113.png', 'code': 1000}, 'wind_mph': 0.7, 'wind_kph': 1.1, 'wind_degree': 184, 'wind_dir': 'S', 'pressure_mb': 1014.0, 'pressure_in': 29.95, 'precip_mm': 0.0, 'precip_in': 0.0, 'snow_cm': 0.0, 'humidity': 58, 'cloud': 14, 'feelslike_c': 17.6, 'feelslike_f': 63.6, 'windchill_c': 17.6, 'windchill_f': 63.6, 'heatindex_c': 17.6, 'heatindex_f': 63.6, 'dewpoint_c': 9.2, 'dewpoint_f': 48.5, 'will_it_rain': 0, 'chance_of_rain': 0, 'will_it_snow': 0, 'chance_of_snow': 0, 'vis_km': 10.0, 'vis_miles': 6.0, 'gust_mph': 1.4, 'gust_kph': 2.3, 'uv': 0}, {'time_epoch': 1761469200, 'time': '2025-10-26 06:00', 'temp_c': 17.8, 'temp_f': 64.1, 'is_day': 1, 'condition': {'text': 'Sol', 'icon': '//cdn.weatherapi.com/weather/64x64/day/113.png', 'code': 1000}, 'wind_mph': 4.5, 'wind_kph': 7.2, 'wind_degree': 228, 'wind_dir': 'SW', 'pressure_mb': 1016.0, 'pressure_in': 30.0, 'precip_mm': 0.0, 'precip_in': 0.0, 'snow_cm': 0.0, 'humidity': 59, 'cloud': 22, 'feelslike_c': 17.8, 'feelslike_f': 64.1, 'windchill_c': 17.8, 'windchill_f': 64.1, 'heatindex_c': 17.8, 'heatindex_f': 64.1, 'dewpoint_c': 9.7, 'dewpoint_f': 49.5, 'will_it_rain': 0, 'chance_of_rain': 0, 'will_it_snow': 0, 'chance_of_snow': 0, 'vis_km': 10.0, 'vis_miles': 6.0, 'gust_mph': 7.6, 'gust_kph': 12.2, 'uv': 0.0}, {'time_epoch': 1761472800, 'time': '2025-10-26 07:00', 'temp_c': 18.3, 'temp_f': 65.0, 'is_day': 1, 'condition': {'text': 'Possibilidade de chuva irregular', 'icon': '//cdn.weatherapi.com/weather/64x64/day/176.png', 'code': 1063}, 'wind_mph': 5.6, 'wind_kph': 9.0, 'wind_degree': 250, 'wind_dir': 'WSW', 'pressure_mb': 1017.0, 'pressure_in': 30.03, 'precip_mm': 0.01, 'precip_in': 0.0, 'snow_cm': 0.0, 'humidity': 61, 'cloud': 81, 'feelslike_c': 18.3, 'feelslike_f': 65.0, 'windchill_c': 18.3, 'windchill_f': 65.0, 'heatindex_c': 18.3, 'heatindex_f': 65.0, 'dewpoint_c': 10.8, 'dewpoint_f': 51.5, 'will_it_rain': 0, 'chance_of_rain': 66, 'will_it_snow': 0, 'chance_of_snow': 0, 'vis_km': 10.0, 'vis_miles': 6.0, 'gust_mph': 8.0, 'gust_kph': 12.9, 'uv': 0.6}, {'time_epoch': 1761476400, 'time': '2025-10-26 08:00', 'temp_c': 19.4, 'temp_f': 66.9, 'is_day': 1, 'condition': {'text': 'Parcialmente nublado', 'icon': '//cdn.weatherapi.com/weather/64x64/day/116.png', 'code': 1003}, 'wind_mph': 2.9, 'wind_kph': 4.7, 'wind_degree': 200, 'wind_dir': 'SSW', 'pressure_mb': 1017.0, 'pressure_in': 30.03, 'precip_mm': 0.0, 'precip_in': 0.0, 'snow_cm': 0.0, 'humidity': 59, 'cloud': 62, 'feelslike_c': 19.4, 'feelslike_f': 66.9, 'windchill_c': 19.4, 'windchill_f': 66.9, 'heatindex_c': 19.4, 'heatindex_f': 66.9, 'dewpoint_c': 11.3, 'dewpoint_f': 52.4, 'will_it_rain': 0, 'chance_of_rain': 0, 'will_it_snow': 0, 'chance_of_snow': 0, 'vis_km': 10.0, 'vis_miles': 6.0, 'gust_mph': 3.7, 'gust_kph': 6.0, 'uv': 1.1}, {'time_epoch': 1761480000, 'time': '2025-10-26 09:00', 'temp_c': 20.0, 'temp_f': 67.9, 'is_day': 1, 'condition': {'text': 'Parcialmente nublado', 'icon': '//cdn.weatherapi.com/weather/64x64/day/116.png', 'code': 1003}, 'wind_mph': 3.1, 'wind_kph': 5.0, 'wind_degree': 196, 'wind_dir': 'SSW', 'pressure_mb': 1016.0, 'pressure_in': 30.01, 'precip_mm': 0.0, 'precip_in': 0.0, 'snow_cm': 0.0, 'humidity': 59, 'cloud': 34, 'feelslike_c': 20.0, 'feelslike_f': 67.9, 'windchill_c': 20.0, 'windchill_f': 67.9, 'heatindex_c': 20.0, 'heatindex_f': 67.9, 'dewpoint_c': 11.8, 'dewpoint_f': 53.2, 'will_it_rain': 0, 'chance_of_rain': 0, 'will_it_snow': 0, 'chance_of_snow': 0, 'vis_km': 10.0, 'vis_miles': 6.0, 'gust_mph': 4.0, 'gust_kph': 6.4, 'uv': 1.3}, {'time_epoch': 1761483600, 'time': '2025-10-26 10:00', 'temp_c': 20.1, 'temp_f': 68.2, 'is_day': 1, 'condition': {'text': 'Parcialmente nublado', 'icon': '//cdn.weatherapi.com/weather/64x64/day/116.png', 'code': 1003}, 'wind_mph': 2.7, 'wind_kph': 4.3, 'wind_degree': 232, 'wind_dir': 'SW', 'pressure_mb': 1016.0, 'pressure_in': 30.0, 'precip_mm': 0.0, 'precip_in': 0.0, 'snow_cm': 0.0, 'humidity': 61, 'cloud': 31, 'feelslike_c': 20.1, 'feelslike_f': 68.2, 'windchill_c': 20.1, 'windchill_f': 68.2, 'heatindex_c': 20.1, 'heatindex_f': 68.2, 'dewpoint_c': 12.3, 'dewpoint_f': 54.1, 'will_it_rain': 0, 'chance_of_rain': 0, 'will_it_snow': 0, 'chance_of_snow': 0, 'vis_km': 10.0, 'vis_miles': 6.0, 'gust_mph': 3.4, 'gust_kph': 5.5, 'uv': 2.3}, {'time_epoch': 1761487200, 'time': '2025-10-26 11:00', 'temp_c': 20.4, 'temp_f': 68.8, 'is_day': 1, 'condition': {'text': 'Parcialmente nublado', 'icon': '//cdn.weatherapi.com/weather/64x64/day/116.png', 'code': 1003}, 'wind_mph': 1.3, 'wind_kph': 2.2, 'wind_degree': 204, 'wind_dir': 'SSW', 'pressure_mb': 1015.0, 'pressure_in': 29.98, 'precip_mm': 0.0, 'precip_in': 0.0, 'snow_cm': 0.0, 'humidity': 61, 'cloud': 35, 'feelslike_c': 20.4, 'feelslike_f': 68.8, 'windchill_c': 20.4, 'windchill_f': 68.8, 'heatindex_c': 20.4, 'heatindex_f': 68.8, 'dewpoint_c': 12.7, 'dewpoint_f': 54.9, 'will_it_rain': 0, 'chance_of_rain': 0, 'will_it_snow': 0, 'chance_of_snow': 0, 'vis_km': 10.0, 'vis_miles': 6.0, 'gust_mph': 1.8, 'gust_kph': 2.8, 'uv': 9.1}, {'time_epoch': 1761490800, 'time': '2025-10-26 12:00', 'temp_c': 19.8, 'temp_f': 67.6, 'is_day': 1, 'condition': {'text': 'Parcialmente nublado', 'icon': '//cdn.weatherapi.com/weather/64x64/day/116.png', 'code': 1003}, 'wind_mph': 1.8, 'wind_kph': 2.9, 'wind_degree': 251, 'wind_dir': 'WSW', 'pressure_mb': 1015.0, 'pressure_in': 29.98, 'precip_mm': 0.0, 'precip_in': 0.0, 'snow_cm': 0.0, 'humidity': 66, 'cloud': 50, 'feelslike_c': 19.8, 'feelslike_f': 67.6, 'windchill_c': 19.8, 'windchill_f': 67.6, 'heatindex_c': 19.8, 'heatindex_f': 67.6, 'dewpoint_c': 13.2, 'dewpoint_f': 55.7, 'will_it_rain': 0, 'chance_of_rain': 0, 'will_it_snow': 0, 'chance_of_snow': 0, 'vis_km': 10.0, 'vis_miles': 6.0, 'gust_mph': 2.6, 'gust_kph': 4.2, 'uv': 9.2}, {'time_epoch': 1761494400, 'time': '2025-10-26 13:00', 'temp_c': 19.9, 'temp_f': 67.8, 'is_day': 1, 'condition': {'text': 'Parcialmente nublado', 'icon': '//cdn.weatherapi.com/weather/64x64/day/116.png', 'code': 1003}, 'wind_mph': 3.1, 'wind_kph': 5.0, 'wind_degree': 200, 'wind_dir': 'SSW', 'pressure_mb': 1014.0, 'pressure_in': 29.95, 'precip_mm': 0.0, 'precip_in': 0.0, 'snow_cm': 0.0, 'humidity': 67, 'cloud': 42, 'feelslike_c': 19.9, 'feelslike_f': 67.8, 'windchill_c': 19.9, 'windchill_f': 67.8, 'heatindex_c': 19.9, 'heatindex_f': 67.8, 'dewpoint_c': 13.5, 'dewpoint_f': 56.4, 'will_it_rain': 0, 'chance_of_rain': 0, 'will_it_snow': 0, 'chance_of_snow': 0, 'vis_km': 10.0, 'vis_miles': 6.0, 'gust_mph': 4.4, 'gust_kph': 7.0, 'uv': 4.7}, {'time_epoch': 1761498000, 'time': '2025-10-26 14:00', 'temp_c': 19.4, 'temp_f': 67.0, 'is_day': 1, 'condition': {'text': 'Parcialmente nublado', 'icon': '//cdn.weatherapi.com/weather/64x64/day/116.png', 'code': 1003}, 'wind_mph': 5.1, 'wind_kph': 8.3, 'wind_degree': 226, 'wind_dir': 'SW', 'pressure_mb': 1014.0, 'pressure_in': 29.95, 'precip_mm': 0.0, 'precip_in': 0.0, 'snow_cm': 0.0, 'humidity': 71, 'cloud': 36, 'feelslike_c': 19.4, 'feelslike_f': 67.0, 'windchill_c': 19.4, 'windchill_f': 67.0, 'heatindex_c': 19.4, 'heatindex_f': 67.0, 'dewpoint_c': 13.9, 'dewpoint_f': 57.1, 'will_it_rain': 0, 'chance_of_rain': 0, 'will_it_snow': 0, 'chance_of_snow': 0, 'vis_km': 10.0, 'vis_miles': 6.0, 'gust_mph': 6.9, 'gust_kph': 11.2, 'uv': 3.1}, {'time_epoch': 1761501600, 'time': '2025-10-26 15:00', 'temp_c': 18.7, 'temp_f': 65.7, 'is_day': 1, 'condition': {'text': 'Possibilidade de chuva irregular', 'icon': '//cdn.weatherapi.com/weather/64x64/day/176.png', 'code': 1063}, 'wind_mph': 5.4, 'wind_kph': 8.6, 'wind_degree': 230, 'wind_dir': 'SW', 'pressure_mb': 1014.0, 'pressure_in': 29.95, 'precip_mm': 0.01, 'precip_in': 0.0, 'snow_cm': 0.0, 'humidity': 76, 'cloud': 80, 'feelslike_c': 18.7, 'feelslike_f': 65.7, 'windchill_c': 18.7, 'windchill_f': 65.7, 'heatindex_c': 18.7, 'heatindex_f': 65.7, 'dewpoint_c': 14.4, 'dewpoint_f': 57.9, 'will_it_rain': 1, 'chance_of_rain': 81, 'will_it_snow': 0, 'chance_of_snow': 0, 'vis_km': 10.0, 'vis_miles': 6.0, 'gust_mph': 7.0, 'gust_kph': 11.3, 'uv': 2.7}, {'time_epoch': 1761505200, 'time': '2025-10-26 16:00', 'temp_c': 22.3, 'temp_f': 72.1, 'is_day': 1, 'condition': {'text': 'Chuva fraca', 'icon': '//cdn.weatherapi.com/weather/64x64/day/296.png', 'code': 1183}, 'wind_mph': 4.0, 'wind_kph': 6.5, 'wind_degree': 233, 'wind_dir': 'SW', 'pressure_mb': 1017.0, 'pressure_in': 30.03, 'precip_mm': 0.25, 'precip_in': 0.01, 'snow_cm': 0.0, 'humidity': 69, 'cloud': 75, 'feelslike_c': 17.4, 'feelslike_f': 63.4, 'windchill_c': 17.4, 'windchill_f': 63.4, 'heatindex_c': 17.4, 'heatindex_f': 63.4, 'dewpoint_c': 15.1, 'dewpoint_f': 59.2, 'will_it_rain': 1, 'chance_of_rain': 100, 'will_it_snow': 0, 'chance_of_snow': 0, 'vis_km': 8.0, 'vis_miles': 4.0, 'gust_mph': 5.7, 'gust_kph': 9.3, 'uv': 0.5}, {'time_epoch': 1761508800, 'time': '2025-10-26 17:00', 'temp_c': 16.6, 'temp_f': 61.9, 'is_day': 1, 'condition': {'text': 'Chuva fraca irregular', 'icon': '//cdn.weatherapi.com/weather/64x64/day/293.png', 'code': 1180}, 'wind_mph': 1.3, 'wind_kph': 2.2, 'wind_degree': 357, 'wind_dir': 'N', 'pressure_mb': 1016.0, 'pressure_in': 29.99, 'precip_mm': 1.61, 'precip_in': 0.06, 'snow_cm': 0.0, 'humidity': 95, 'cloud': 74, 'feelslike_c': 16.6, 'feelslike_f': 61.9, 'windchill_c': 16.6, 'windchill_f': 61.9, 'heatindex_c': 16.6, 'heatindex_f': 61.9, 'dewpoint_c': 15.8, 'dewpoint_f': 60.4, 'will_it_rain': 1, 'chance_of_rain': 100, 'will_it_snow': 0, 'chance_of_snow': 0, 'vis_km': 9.0, 'vis_miles': 5.0, 'gust_mph': 2.1, 'gust_kph': 3.4, 'uv': 0.3}, {'time_epoch': 1761512400, 'time': '2025-10-26 18:00', 'temp_c': 16.4, 'temp_f': 61.5, 'is_day': 1, 'condition': {'text': 'Chuvisco', 'icon': '//cdn.weatherapi.com/weather/64x64/day/266.png', 'code': 1153}, 'wind_mph': 2.2, 'wind_kph': 3.6, 'wind_degree': 30, 'wind_dir': 'NNE', 'pressure_mb': 1016.0, 'pressure_in': 29.99, 'precip_mm': 0.32, 'precip_in': 0.01, 'snow_cm': 0.0, 'humidity': 96, 'cloud': 79, 'feelslike_c': 16.4, 'feelslike_f': 61.5, 'windchill_c': 16.4, 'windchill_f': 61.5, 'heatindex_c': 16.4, 'heatindex_f': 61.5, 'dewpoint_c': 15.7, 'dewpoint_f': 60.3, 'will_it_rain': 1, 'chance_of_rain': 100, 'will_it_snow': 0, 'chance_of_snow': 0, 'vis_km': 2.0, 'vis_miles': 1.0, 'gust_mph': 3.7, 'gust_kph': 6.0, 'uv': 0.1}, {'time_epoch': 1761516000, 'time': '2025-10-26 19:00', 'temp_c': 16.3, 'temp_f': 61.4, 'is_day': 0, 'condition': {'text': 'Possibilidade de chuva irregular', 'icon': '//cdn.weatherapi.com/weather/64x64/night/176.png', 'code': 1063}, 'wind_mph': 2.5, 'wind_kph': 4.0, 'wind_degree': 322, 'wind_dir': 'NW', 'pressure_mb': 1015.0, 'pressure_in': 29.98, 'precip_mm': 0.01, 'precip_in': 0.0, 'snow_cm': 0.0, 'humidity': 94, 'cloud': 53, 'feelslike_c': 16.3, 'feelslike_f': 61.4, 'windchill_c': 16.3, 'windchill_f': 61.4, 'heatindex_c': 16.3, 'heatindex_f': 61.4, 'dewpoint_c': 15.3, 'dewpoint_f': 59.5, 'will_it_rain': 1, 'chance_of_rain': 87, 'will_it_snow': 0, 'chance_of_snow': 0, 'vis_km': 10.0, 'vis_miles': 6.0, 'gust_mph': 4.4, 'gust_kph': 7.1, 'uv': 0}, {'time_epoch': 1761519600, 'time': '2025-10-26 20:00', 'temp_c': 15.9, 'temp_f': 60.6, 'is_day': 0, 'condition': {'text': 'Neblina', 'icon': '//cdn.weatherapi.com/weather/64x64/night/143.png', 'code': 1030}, 'wind_mph': 3.6, 'wind_kph': 5.8, 'wind_degree': 60, 'wind_dir': 'ENE', 'pressure_mb': 1015.0, 'pressure_in': 29.97, 'precip_mm': 0.0, 'precip_in': 0.0, 'snow_cm': 0.0, 'humidity': 95, 'cloud': 65, 'feelslike_c': 15.9, 'feelslike_f': 60.6, 'windchill_c': 15.9, 'windchill_f': 60.6, 'heatindex_c': 15.9, 'heatindex_f': 60.6, 'dewpoint_c': 15.1, 'dewpoint_f': 59.1, 'will_it_rain': 0, 'chance_of_rain': 0, 'will_it_snow': 0, 'chance_of_snow': 0, 'vis_km': 2.0, 'vis_miles': 1.0, 'gust_mph': 6.6, 'gust_kph': 10.6, 'uv': 0}, {'time_epoch': 1761523200, 'time': '2025-10-26 21:00', 'temp_c': 15.9, 'temp_f': 60.7, 'is_day': 0, 'condition': {'text': 'Neblina', 'icon': '//cdn.weatherapi.com/weather/64x64/night/143.png', 'code': 1030}, 'wind_mph': 2.2, 'wind_kph': 3.6, 'wind_degree': 10, 'wind_dir': 'N', 'pressure_mb': 1016.0, 'pressure_in': 29.99, 'precip_mm': 0.0, 'precip_in': 0.0, 'snow_cm': 0.0, 'humidity': 95, 'cloud': 54, 'feelslike_c': 15.9, 'feelslike_f': 60.7, 'windchill_c': 15.9, 'windchill_f': 60.7, 'heatindex_c': 15.9, 'heatindex_f': 60.7, 'dewpoint_c': 15.1, 'dewpoint_f': 59.2, 'will_it_rain': 0, 'chance_of_rain': 0, 'will_it_snow': 0, 'chance_of_snow': 0, 'vis_km': 2.0, 'vis_miles': 1.0, 'gust_mph': 3.9, 'gust_kph': 6.3, 'uv': 0}, {'time_epoch': 1761526800, 'time': '2025-10-26 22:00', 'temp_c': 15.7, 'temp_f': 60.2, 'is_day': 0, 'condition': {'text': 'Neblina', 'icon': '//cdn.weatherapi.com/weather/64x64/night/143.png', 'code': 1030}, 'wind_mph': 2.5, 'wind_kph': 4.0, 'wind_degree': 44, 'wind_dir': 'NE', 'pressure_mb': 1016.0, 'pressure_in': 29.99, 'precip_mm': 0.0, 'precip_in': 0.0, 'snow_cm': 0.0, 'humidity': 95, 'cloud': 56, 'feelslike_c': 15.7, 'feelslike_f': 60.2, 'windchill_c': 15.7, 'windchill_f': 60.2, 'heatindex_c': 15.7, 'heatindex_f': 60.2, 'dewpoint_c': 14.9, 'dewpoint_f': 58.9, 'will_it_rain': 0, 'chance_of_rain': 0, 'will_it_snow': 0, 'chance_of_snow': 0, 'vis_km': 2.0, 'vis_miles': 1.0, 'gust_mph': 4.4, 'gust_kph': 7.1, 'uv': 0}, {'time_epoch': 1761530400, 'time': '2025-10-26 23:00', 'temp_c': 15.6, 'temp_f': 60.0, 'is_day': 0, 'condition': {'text': 'Neblina', 'icon': '//cdn.weatherapi.com/weather/64x64/night/143.png', 'code': 1030}, 'wind_mph': 3.6, 'wind_kph': 5.8, 'wind_degree': 58, 'wind_dir': 'ENE', 'pressure_mb': 1015.0, 'pressure_in': 29.98, 'precip_mm': 0.11, 'precip_in': 0.0, 'snow_cm': 0.0, 'humidity': 96, 'cloud': 84, 'feelslike_c': 15.6, 'feelslike_f': 60.0, 'windchill_c': 15.6, 'windchill_f': 60.0, 'heatindex_c': 15.6, 'heatindex_f': 60.0, 'dewpoint_c': 15.0, 'dewpoint_f': 59.0, 'will_it_rain': 1, 'chance_of_rain': 100, 'will_it_snow': 0, 'chance_of_snow': 0, 'vis_km': 2.0, 'vis_miles': 1.0, 'gust_mph': 6.2, 'gust_kph': 9.9, 'uv': 0}]",
         "20.4",
         "68.8",
         "15.6",
         "60.0",
         "17.8",
         "64.0",
         "5.6",
         "9.0",
         "2.32",
         "0.09",
         "0.0",
         "8.0",
         "4.0",
         "73",
         "1",
         "87",
         "0",
         "0",
         "Possibilidade de chuva irregular",
         "//cdn.weatherapi.com/weather/64x64/day/176.png",
         "1063",
         "1.5",
         "05:33 AM",
         "06:29 PM",
         "08:46 AM",
         "11:14 PM",
         "Waxing Crescent",
         "17",
         "0",
         "0"
        ]
       ],
       "shape": {
        "columns": 33,
        "rows": 1
       }
      },
      "text/html": [
       "<div>\n",
       "<style scoped>\n",
       "    .dataframe tbody tr th:only-of-type {\n",
       "        vertical-align: middle;\n",
       "    }\n",
       "\n",
       "    .dataframe tbody tr th {\n",
       "        vertical-align: top;\n",
       "    }\n",
       "\n",
       "    .dataframe thead th {\n",
       "        text-align: right;\n",
       "    }\n",
       "</style>\n",
       "<table border=\"1\" class=\"dataframe\">\n",
       "  <thead>\n",
       "    <tr style=\"text-align: right;\">\n",
       "      <th></th>\n",
       "      <th>date</th>\n",
       "      <th>date_epoch</th>\n",
       "      <th>hour</th>\n",
       "      <th>day.maxtemp_c</th>\n",
       "      <th>day.maxtemp_f</th>\n",
       "      <th>day.mintemp_c</th>\n",
       "      <th>day.mintemp_f</th>\n",
       "      <th>day.avgtemp_c</th>\n",
       "      <th>day.avgtemp_f</th>\n",
       "      <th>day.maxwind_mph</th>\n",
       "      <th>day.maxwind_kph</th>\n",
       "      <th>day.totalprecip_mm</th>\n",
       "      <th>day.totalprecip_in</th>\n",
       "      <th>day.totalsnow_cm</th>\n",
       "      <th>day.avgvis_km</th>\n",
       "      <th>day.avgvis_miles</th>\n",
       "      <th>day.avghumidity</th>\n",
       "      <th>day.daily_will_it_rain</th>\n",
       "      <th>day.daily_chance_of_rain</th>\n",
       "      <th>day.daily_will_it_snow</th>\n",
       "      <th>day.daily_chance_of_snow</th>\n",
       "      <th>day.condition.text</th>\n",
       "      <th>day.condition.icon</th>\n",
       "      <th>day.condition.code</th>\n",
       "      <th>day.uv</th>\n",
       "      <th>astro.sunrise</th>\n",
       "      <th>astro.sunset</th>\n",
       "      <th>astro.moonrise</th>\n",
       "      <th>astro.moonset</th>\n",
       "      <th>astro.moon_phase</th>\n",
       "      <th>astro.moon_illumination</th>\n",
       "      <th>astro.is_moon_up</th>\n",
       "      <th>astro.is_sun_up</th>\n",
       "    </tr>\n",
       "  </thead>\n",
       "  <tbody>\n",
       "    <tr>\n",
       "      <th>0</th>\n",
       "      <td>2025-10-26</td>\n",
       "      <td>1761436800</td>\n",
       "      <td>[{'time_epoch': 1761447600, 'time': '2025-10-2...</td>\n",
       "      <td>20.4</td>\n",
       "      <td>68.8</td>\n",
       "      <td>15.6</td>\n",
       "      <td>60.0</td>\n",
       "      <td>17.8</td>\n",
       "      <td>64.0</td>\n",
       "      <td>5.6</td>\n",
       "      <td>9.0</td>\n",
       "      <td>2.32</td>\n",
       "      <td>0.09</td>\n",
       "      <td>0.0</td>\n",
       "      <td>8.0</td>\n",
       "      <td>4.0</td>\n",
       "      <td>73</td>\n",
       "      <td>1</td>\n",
       "      <td>87</td>\n",
       "      <td>0</td>\n",
       "      <td>0</td>\n",
       "      <td>Possibilidade de chuva irregular</td>\n",
       "      <td>//cdn.weatherapi.com/weather/64x64/day/176.png</td>\n",
       "      <td>1063</td>\n",
       "      <td>1.5</td>\n",
       "      <td>05:33 AM</td>\n",
       "      <td>06:29 PM</td>\n",
       "      <td>08:46 AM</td>\n",
       "      <td>11:14 PM</td>\n",
       "      <td>Waxing Crescent</td>\n",
       "      <td>17</td>\n",
       "      <td>0</td>\n",
       "      <td>0</td>\n",
       "    </tr>\n",
       "  </tbody>\n",
       "</table>\n",
       "</div>"
      ],
      "text/plain": [
       "         date  date_epoch                                               hour  \\\n",
       "0  2025-10-26  1761436800  [{'time_epoch': 1761447600, 'time': '2025-10-2...   \n",
       "\n",
       "   day.maxtemp_c  day.maxtemp_f  day.mintemp_c  day.mintemp_f  day.avgtemp_c  \\\n",
       "0           20.4           68.8           15.6           60.0           17.8   \n",
       "\n",
       "   day.avgtemp_f  day.maxwind_mph  day.maxwind_kph  day.totalprecip_mm  \\\n",
       "0           64.0              5.6              9.0                2.32   \n",
       "\n",
       "   day.totalprecip_in  day.totalsnow_cm  day.avgvis_km  day.avgvis_miles  \\\n",
       "0                0.09               0.0            8.0               4.0   \n",
       "\n",
       "   day.avghumidity  day.daily_will_it_rain  day.daily_chance_of_rain  \\\n",
       "0               73                       1                        87   \n",
       "\n",
       "   day.daily_will_it_snow  day.daily_chance_of_snow  \\\n",
       "0                       0                         0   \n",
       "\n",
       "                 day.condition.text  \\\n",
       "0  Possibilidade de chuva irregular   \n",
       "\n",
       "                               day.condition.icon  day.condition.code  day.uv  \\\n",
       "0  //cdn.weatherapi.com/weather/64x64/day/176.png                1063     1.5   \n",
       "\n",
       "  astro.sunrise astro.sunset astro.moonrise astro.moonset astro.moon_phase  \\\n",
       "0      05:33 AM     06:29 PM       08:46 AM      11:14 PM  Waxing Crescent   \n",
       "\n",
       "   astro.moon_illumination  astro.is_moon_up  astro.is_sun_up  \n",
       "0                       17                 0                0  "
      ]
     },
     "execution_count": 26,
     "metadata": {},
     "output_type": "execute_result"
    }
   ],
   "source": [
    "forecast_list = dados[\"forecast\"][\"forecastday\"]\n",
    "df_forecast = pd.json_normalize(forecast_list)\n",
    "df_forecast\n"
   ]
  },
  {
   "cell_type": "code",
   "execution_count": 27,
   "id": "9501fc07",
   "metadata": {},
   "outputs": [
    {
     "name": "stdout",
     "output_type": "stream",
     "text": [
      "                 time    time_epoch  temp_c  temp_f  is_day  wind_mph  \\\n",
      "0 2025-10-26 00:00:00  1.761455e+09  17.160  62.860     0.0     3.040   \n",
      "1 2025-10-26 05:00:00  1.761473e+09  18.620  65.500     0.8     3.360   \n",
      "2 2025-10-26 10:00:00  1.761491e+09  19.920  67.880     1.0     2.800   \n",
      "3 2025-10-26 15:00:00  1.761509e+09  18.060  64.520     0.8     3.080   \n",
      "4 2025-10-26 20:00:00  1.761525e+09  15.775  60.375     0.0     2.975   \n",
      "\n",
      "   wind_kph  wind_degree  pressure_mb  pressure_in  precip_mm  precip_in  \\\n",
      "0      4.92         32.2       1013.4      29.9240     0.0000      0.000   \n",
      "1      5.40        211.6       1016.0      30.0040     0.0020      0.000   \n",
      "2      4.54        222.6       1014.8      29.9720     0.0000      0.000   \n",
      "3      4.98        234.4       1015.6      29.9880     0.4400      0.016   \n",
      "4      4.80         43.0       1015.5      29.9825     0.0275      0.000   \n",
      "\n",
      "   snow_cm  humidity  cloud  feelslike_c  feelslike_f  windchill_c  \\\n",
      "0      0.0     58.60   5.00       17.160       62.860       17.160   \n",
      "1      0.0     59.20  42.60       18.620       65.500       18.620   \n",
      "2      0.0     65.20  38.80       19.920       67.880       19.920   \n",
      "3      0.0     86.00  72.20       17.080       62.780       17.080   \n",
      "4      0.0     95.25  64.75       15.775       60.375       15.775   \n",
      "\n",
      "   windchill_f  heatindex_c  heatindex_f  dewpoint_c  dewpoint_f  \\\n",
      "0       62.860       17.160       62.860       8.980       48.14   \n",
      "1       65.500       18.620       65.500      10.560       51.02   \n",
      "2       67.880       19.920       67.880      13.120       55.64   \n",
      "3       62.780       17.080       62.780      15.260       59.46   \n",
      "4       60.375       15.775       60.375      15.025       59.05   \n",
      "\n",
      "   will_it_rain  chance_of_rain  will_it_snow  chance_of_snow  vis_km  \\\n",
      "0          0.00             0.0           0.0             0.0    10.0   \n",
      "1          0.00            13.2           0.0             0.0    10.0   \n",
      "2          0.00             0.0           0.0             0.0    10.0   \n",
      "3          1.00            93.6           0.0             0.0     7.8   \n",
      "4          0.25            25.0           0.0             0.0     2.0   \n",
      "\n",
      "   vis_miles  gust_mph  gust_kph    uv  condition.code  \n",
      "0        6.0     6.380    10.280  0.00          1000.0  \n",
      "1        6.0     4.940     7.960  0.60          1013.8  \n",
      "2        6.0     3.820     6.140  5.68          1003.0  \n",
      "3        4.4     4.580     7.420  0.72          1128.4  \n",
      "4        1.0     5.275     8.475  0.00          1030.0  \n"
     ]
    },
    {
     "data": {
      "application/vnd.microsoft.datawrangler.viewer.v0+json": {
       "columns": [
        {
         "name": "index",
         "rawType": "int64",
         "type": "integer"
        },
        {
         "name": "time",
         "rawType": "datetime64[ns]",
         "type": "datetime"
        },
        {
         "name": "time_epoch",
         "rawType": "float64",
         "type": "float"
        },
        {
         "name": "temp_c",
         "rawType": "float64",
         "type": "float"
        },
        {
         "name": "temp_f",
         "rawType": "float64",
         "type": "float"
        },
        {
         "name": "is_day",
         "rawType": "float64",
         "type": "float"
        },
        {
         "name": "wind_mph",
         "rawType": "float64",
         "type": "float"
        },
        {
         "name": "wind_kph",
         "rawType": "float64",
         "type": "float"
        },
        {
         "name": "wind_degree",
         "rawType": "float64",
         "type": "float"
        },
        {
         "name": "pressure_mb",
         "rawType": "float64",
         "type": "float"
        },
        {
         "name": "pressure_in",
         "rawType": "float64",
         "type": "float"
        },
        {
         "name": "precip_mm",
         "rawType": "float64",
         "type": "float"
        },
        {
         "name": "precip_in",
         "rawType": "float64",
         "type": "float"
        },
        {
         "name": "snow_cm",
         "rawType": "float64",
         "type": "float"
        },
        {
         "name": "humidity",
         "rawType": "float64",
         "type": "float"
        },
        {
         "name": "cloud",
         "rawType": "float64",
         "type": "float"
        },
        {
         "name": "feelslike_c",
         "rawType": "float64",
         "type": "float"
        },
        {
         "name": "feelslike_f",
         "rawType": "float64",
         "type": "float"
        },
        {
         "name": "windchill_c",
         "rawType": "float64",
         "type": "float"
        },
        {
         "name": "windchill_f",
         "rawType": "float64",
         "type": "float"
        },
        {
         "name": "heatindex_c",
         "rawType": "float64",
         "type": "float"
        },
        {
         "name": "heatindex_f",
         "rawType": "float64",
         "type": "float"
        },
        {
         "name": "dewpoint_c",
         "rawType": "float64",
         "type": "float"
        },
        {
         "name": "dewpoint_f",
         "rawType": "float64",
         "type": "float"
        },
        {
         "name": "will_it_rain",
         "rawType": "float64",
         "type": "float"
        },
        {
         "name": "chance_of_rain",
         "rawType": "float64",
         "type": "float"
        },
        {
         "name": "will_it_snow",
         "rawType": "float64",
         "type": "float"
        },
        {
         "name": "chance_of_snow",
         "rawType": "float64",
         "type": "float"
        },
        {
         "name": "vis_km",
         "rawType": "float64",
         "type": "float"
        },
        {
         "name": "vis_miles",
         "rawType": "float64",
         "type": "float"
        },
        {
         "name": "gust_mph",
         "rawType": "float64",
         "type": "float"
        },
        {
         "name": "gust_kph",
         "rawType": "float64",
         "type": "float"
        },
        {
         "name": "uv",
         "rawType": "float64",
         "type": "float"
        },
        {
         "name": "condition.code",
         "rawType": "float64",
         "type": "float"
        }
       ],
       "ref": "3c17d8e2-b69e-4e0f-9cdd-9f643729aa53",
       "rows": [
        [
         "0",
         "2025-10-26 00:00:00",
         "1761454800.0",
         "17.16",
         "62.86",
         "0.0",
         "3.04",
         "4.92",
         "32.2",
         "1013.4",
         "29.924",
         "0.0",
         "0.0",
         "0.0",
         "58.6",
         "5.0",
         "17.16",
         "62.86",
         "17.16",
         "62.86",
         "17.16",
         "62.86",
         "8.98",
         "48.14",
         "0.0",
         "0.0",
         "0.0",
         "0.0",
         "10.0",
         "6.0",
         "6.38",
         "10.28",
         "0.0",
         "1000.0"
        ],
        [
         "1",
         "2025-10-26 05:00:00",
         "1761472800.0",
         "18.619999999999997",
         "65.5",
         "0.8",
         "3.3600000000000003",
         "5.4",
         "211.6",
         "1016.0",
         "30.004",
         "0.002",
         "0.0",
         "0.0",
         "59.2",
         "42.6",
         "18.619999999999997",
         "65.5",
         "18.619999999999997",
         "65.5",
         "18.619999999999997",
         "65.5",
         "10.559999999999999",
         "51.019999999999996",
         "0.0",
         "13.2",
         "0.0",
         "0.0",
         "10.0",
         "6.0",
         "4.9399999999999995",
         "7.959999999999999",
         "0.6",
         "1013.8"
        ],
        [
         "2",
         "2025-10-26 10:00:00",
         "1761490800.0",
         "19.919999999999998",
         "67.88",
         "1.0",
         "2.8",
         "4.540000000000001",
         "222.6",
         "1014.8",
         "29.972",
         "0.0",
         "0.0",
         "0.0",
         "65.2",
         "38.8",
         "19.919999999999998",
         "67.88",
         "19.919999999999998",
         "67.88",
         "19.919999999999998",
         "67.88",
         "13.12",
         "55.64",
         "0.0",
         "0.0",
         "0.0",
         "0.0",
         "10.0",
         "6.0",
         "3.8200000000000003",
         "6.14",
         "5.68",
         "1003.0"
        ],
        [
         "3",
         "2025-10-26 15:00:00",
         "1761508800.0",
         "18.06",
         "64.52000000000001",
         "0.8",
         "3.08",
         "4.9799999999999995",
         "234.4",
         "1015.6",
         "29.988",
         "0.44000000000000006",
         "0.016",
         "0.0",
         "86.0",
         "72.2",
         "17.080000000000002",
         "62.779999999999994",
         "17.080000000000002",
         "62.779999999999994",
         "17.080000000000002",
         "62.779999999999994",
         "15.26",
         "59.46",
         "1.0",
         "93.6",
         "0.0",
         "0.0",
         "7.8",
         "4.4",
         "4.58",
         "7.42",
         "0.72",
         "1128.4"
        ],
        [
         "4",
         "2025-10-26 20:00:00",
         "1761525000.0",
         "15.775",
         "60.375",
         "0.0",
         "2.975",
         "4.8",
         "43.0",
         "1015.5",
         "29.982499999999998",
         "0.0275",
         "0.0",
         "0.0",
         "95.25",
         "64.75",
         "15.775",
         "60.375",
         "15.775",
         "60.375",
         "15.775",
         "60.375",
         "15.025",
         "59.05",
         "0.25",
         "25.0",
         "0.0",
         "0.0",
         "2.0",
         "1.0",
         "5.275",
         "8.475",
         "0.0",
         "1030.0"
        ]
       ],
       "shape": {
        "columns": 33,
        "rows": 5
       }
      },
      "text/html": [
       "<div>\n",
       "<style scoped>\n",
       "    .dataframe tbody tr th:only-of-type {\n",
       "        vertical-align: middle;\n",
       "    }\n",
       "\n",
       "    .dataframe tbody tr th {\n",
       "        vertical-align: top;\n",
       "    }\n",
       "\n",
       "    .dataframe thead th {\n",
       "        text-align: right;\n",
       "    }\n",
       "</style>\n",
       "<table border=\"1\" class=\"dataframe\">\n",
       "  <thead>\n",
       "    <tr style=\"text-align: right;\">\n",
       "      <th></th>\n",
       "      <th>time</th>\n",
       "      <th>time_epoch</th>\n",
       "      <th>temp_c</th>\n",
       "      <th>temp_f</th>\n",
       "      <th>is_day</th>\n",
       "      <th>wind_mph</th>\n",
       "      <th>wind_kph</th>\n",
       "      <th>wind_degree</th>\n",
       "      <th>pressure_mb</th>\n",
       "      <th>pressure_in</th>\n",
       "      <th>precip_mm</th>\n",
       "      <th>precip_in</th>\n",
       "      <th>snow_cm</th>\n",
       "      <th>humidity</th>\n",
       "      <th>cloud</th>\n",
       "      <th>feelslike_c</th>\n",
       "      <th>feelslike_f</th>\n",
       "      <th>windchill_c</th>\n",
       "      <th>windchill_f</th>\n",
       "      <th>heatindex_c</th>\n",
       "      <th>heatindex_f</th>\n",
       "      <th>dewpoint_c</th>\n",
       "      <th>dewpoint_f</th>\n",
       "      <th>will_it_rain</th>\n",
       "      <th>chance_of_rain</th>\n",
       "      <th>will_it_snow</th>\n",
       "      <th>chance_of_snow</th>\n",
       "      <th>vis_km</th>\n",
       "      <th>vis_miles</th>\n",
       "      <th>gust_mph</th>\n",
       "      <th>gust_kph</th>\n",
       "      <th>uv</th>\n",
       "      <th>condition.code</th>\n",
       "    </tr>\n",
       "  </thead>\n",
       "  <tbody>\n",
       "    <tr>\n",
       "      <th>0</th>\n",
       "      <td>2025-10-26 00:00:00</td>\n",
       "      <td>1.761455e+09</td>\n",
       "      <td>17.160</td>\n",
       "      <td>62.860</td>\n",
       "      <td>0.0</td>\n",
       "      <td>3.040</td>\n",
       "      <td>4.92</td>\n",
       "      <td>32.2</td>\n",
       "      <td>1013.4</td>\n",
       "      <td>29.9240</td>\n",
       "      <td>0.0000</td>\n",
       "      <td>0.000</td>\n",
       "      <td>0.0</td>\n",
       "      <td>58.60</td>\n",
       "      <td>5.00</td>\n",
       "      <td>17.160</td>\n",
       "      <td>62.860</td>\n",
       "      <td>17.160</td>\n",
       "      <td>62.860</td>\n",
       "      <td>17.160</td>\n",
       "      <td>62.860</td>\n",
       "      <td>8.980</td>\n",
       "      <td>48.14</td>\n",
       "      <td>0.00</td>\n",
       "      <td>0.0</td>\n",
       "      <td>0.0</td>\n",
       "      <td>0.0</td>\n",
       "      <td>10.0</td>\n",
       "      <td>6.0</td>\n",
       "      <td>6.380</td>\n",
       "      <td>10.280</td>\n",
       "      <td>0.00</td>\n",
       "      <td>1000.0</td>\n",
       "    </tr>\n",
       "    <tr>\n",
       "      <th>1</th>\n",
       "      <td>2025-10-26 05:00:00</td>\n",
       "      <td>1.761473e+09</td>\n",
       "      <td>18.620</td>\n",
       "      <td>65.500</td>\n",
       "      <td>0.8</td>\n",
       "      <td>3.360</td>\n",
       "      <td>5.40</td>\n",
       "      <td>211.6</td>\n",
       "      <td>1016.0</td>\n",
       "      <td>30.0040</td>\n",
       "      <td>0.0020</td>\n",
       "      <td>0.000</td>\n",
       "      <td>0.0</td>\n",
       "      <td>59.20</td>\n",
       "      <td>42.60</td>\n",
       "      <td>18.620</td>\n",
       "      <td>65.500</td>\n",
       "      <td>18.620</td>\n",
       "      <td>65.500</td>\n",
       "      <td>18.620</td>\n",
       "      <td>65.500</td>\n",
       "      <td>10.560</td>\n",
       "      <td>51.02</td>\n",
       "      <td>0.00</td>\n",
       "      <td>13.2</td>\n",
       "      <td>0.0</td>\n",
       "      <td>0.0</td>\n",
       "      <td>10.0</td>\n",
       "      <td>6.0</td>\n",
       "      <td>4.940</td>\n",
       "      <td>7.960</td>\n",
       "      <td>0.60</td>\n",
       "      <td>1013.8</td>\n",
       "    </tr>\n",
       "    <tr>\n",
       "      <th>2</th>\n",
       "      <td>2025-10-26 10:00:00</td>\n",
       "      <td>1.761491e+09</td>\n",
       "      <td>19.920</td>\n",
       "      <td>67.880</td>\n",
       "      <td>1.0</td>\n",
       "      <td>2.800</td>\n",
       "      <td>4.54</td>\n",
       "      <td>222.6</td>\n",
       "      <td>1014.8</td>\n",
       "      <td>29.9720</td>\n",
       "      <td>0.0000</td>\n",
       "      <td>0.000</td>\n",
       "      <td>0.0</td>\n",
       "      <td>65.20</td>\n",
       "      <td>38.80</td>\n",
       "      <td>19.920</td>\n",
       "      <td>67.880</td>\n",
       "      <td>19.920</td>\n",
       "      <td>67.880</td>\n",
       "      <td>19.920</td>\n",
       "      <td>67.880</td>\n",
       "      <td>13.120</td>\n",
       "      <td>55.64</td>\n",
       "      <td>0.00</td>\n",
       "      <td>0.0</td>\n",
       "      <td>0.0</td>\n",
       "      <td>0.0</td>\n",
       "      <td>10.0</td>\n",
       "      <td>6.0</td>\n",
       "      <td>3.820</td>\n",
       "      <td>6.140</td>\n",
       "      <td>5.68</td>\n",
       "      <td>1003.0</td>\n",
       "    </tr>\n",
       "    <tr>\n",
       "      <th>3</th>\n",
       "      <td>2025-10-26 15:00:00</td>\n",
       "      <td>1.761509e+09</td>\n",
       "      <td>18.060</td>\n",
       "      <td>64.520</td>\n",
       "      <td>0.8</td>\n",
       "      <td>3.080</td>\n",
       "      <td>4.98</td>\n",
       "      <td>234.4</td>\n",
       "      <td>1015.6</td>\n",
       "      <td>29.9880</td>\n",
       "      <td>0.4400</td>\n",
       "      <td>0.016</td>\n",
       "      <td>0.0</td>\n",
       "      <td>86.00</td>\n",
       "      <td>72.20</td>\n",
       "      <td>17.080</td>\n",
       "      <td>62.780</td>\n",
       "      <td>17.080</td>\n",
       "      <td>62.780</td>\n",
       "      <td>17.080</td>\n",
       "      <td>62.780</td>\n",
       "      <td>15.260</td>\n",
       "      <td>59.46</td>\n",
       "      <td>1.00</td>\n",
       "      <td>93.6</td>\n",
       "      <td>0.0</td>\n",
       "      <td>0.0</td>\n",
       "      <td>7.8</td>\n",
       "      <td>4.4</td>\n",
       "      <td>4.580</td>\n",
       "      <td>7.420</td>\n",
       "      <td>0.72</td>\n",
       "      <td>1128.4</td>\n",
       "    </tr>\n",
       "    <tr>\n",
       "      <th>4</th>\n",
       "      <td>2025-10-26 20:00:00</td>\n",
       "      <td>1.761525e+09</td>\n",
       "      <td>15.775</td>\n",
       "      <td>60.375</td>\n",
       "      <td>0.0</td>\n",
       "      <td>2.975</td>\n",
       "      <td>4.80</td>\n",
       "      <td>43.0</td>\n",
       "      <td>1015.5</td>\n",
       "      <td>29.9825</td>\n",
       "      <td>0.0275</td>\n",
       "      <td>0.000</td>\n",
       "      <td>0.0</td>\n",
       "      <td>95.25</td>\n",
       "      <td>64.75</td>\n",
       "      <td>15.775</td>\n",
       "      <td>60.375</td>\n",
       "      <td>15.775</td>\n",
       "      <td>60.375</td>\n",
       "      <td>15.775</td>\n",
       "      <td>60.375</td>\n",
       "      <td>15.025</td>\n",
       "      <td>59.05</td>\n",
       "      <td>0.25</td>\n",
       "      <td>25.0</td>\n",
       "      <td>0.0</td>\n",
       "      <td>0.0</td>\n",
       "      <td>2.0</td>\n",
       "      <td>1.0</td>\n",
       "      <td>5.275</td>\n",
       "      <td>8.475</td>\n",
       "      <td>0.00</td>\n",
       "      <td>1030.0</td>\n",
       "    </tr>\n",
       "  </tbody>\n",
       "</table>\n",
       "</div>"
      ],
      "text/plain": [
       "                 time    time_epoch  temp_c  temp_f  is_day  wind_mph  \\\n",
       "0 2025-10-26 00:00:00  1.761455e+09  17.160  62.860     0.0     3.040   \n",
       "1 2025-10-26 05:00:00  1.761473e+09  18.620  65.500     0.8     3.360   \n",
       "2 2025-10-26 10:00:00  1.761491e+09  19.920  67.880     1.0     2.800   \n",
       "3 2025-10-26 15:00:00  1.761509e+09  18.060  64.520     0.8     3.080   \n",
       "4 2025-10-26 20:00:00  1.761525e+09  15.775  60.375     0.0     2.975   \n",
       "\n",
       "   wind_kph  wind_degree  pressure_mb  pressure_in  precip_mm  precip_in  \\\n",
       "0      4.92         32.2       1013.4      29.9240     0.0000      0.000   \n",
       "1      5.40        211.6       1016.0      30.0040     0.0020      0.000   \n",
       "2      4.54        222.6       1014.8      29.9720     0.0000      0.000   \n",
       "3      4.98        234.4       1015.6      29.9880     0.4400      0.016   \n",
       "4      4.80         43.0       1015.5      29.9825     0.0275      0.000   \n",
       "\n",
       "   snow_cm  humidity  cloud  feelslike_c  feelslike_f  windchill_c  \\\n",
       "0      0.0     58.60   5.00       17.160       62.860       17.160   \n",
       "1      0.0     59.20  42.60       18.620       65.500       18.620   \n",
       "2      0.0     65.20  38.80       19.920       67.880       19.920   \n",
       "3      0.0     86.00  72.20       17.080       62.780       17.080   \n",
       "4      0.0     95.25  64.75       15.775       60.375       15.775   \n",
       "\n",
       "   windchill_f  heatindex_c  heatindex_f  dewpoint_c  dewpoint_f  \\\n",
       "0       62.860       17.160       62.860       8.980       48.14   \n",
       "1       65.500       18.620       65.500      10.560       51.02   \n",
       "2       67.880       19.920       67.880      13.120       55.64   \n",
       "3       62.780       17.080       62.780      15.260       59.46   \n",
       "4       60.375       15.775       60.375      15.025       59.05   \n",
       "\n",
       "   will_it_rain  chance_of_rain  will_it_snow  chance_of_snow  vis_km  \\\n",
       "0          0.00             0.0           0.0             0.0    10.0   \n",
       "1          0.00            13.2           0.0             0.0    10.0   \n",
       "2          0.00             0.0           0.0             0.0    10.0   \n",
       "3          1.00            93.6           0.0             0.0     7.8   \n",
       "4          0.25            25.0           0.0             0.0     2.0   \n",
       "\n",
       "   vis_miles  gust_mph  gust_kph    uv  condition.code  \n",
       "0        6.0     6.380    10.280  0.00          1000.0  \n",
       "1        6.0     4.940     7.960  0.60          1013.8  \n",
       "2        6.0     3.820     6.140  5.68          1003.0  \n",
       "3        4.4     4.580     7.420  0.72          1128.4  \n",
       "4        1.0     5.275     8.475  0.00          1030.0  "
      ]
     },
     "execution_count": 27,
     "metadata": {},
     "output_type": "execute_result"
    }
   ],
   "source": [
    "# Extrair a lista de horas do primeiro dia de previsão\n",
    "hour_list = df_forecast['hour'][0]  # Pega a lista de horas do primeiro dia\n",
    "\n",
    "# Agora normalize essa lista para criar o dataframe de horas\n",
    "df_hour = pd.json_normalize(hour_list)\n",
    "\n",
    "# Converter para datetime\n",
    "df_hour[\"time\"] = pd.to_datetime(df_hour[\"time\"])\n",
    "\n",
    "# Definir como índice\n",
    "df_hour = df_hour.set_index(\"time\")\n",
    "\n",
    "# Selecionar apenas colunas numéricas\n",
    "df_numeric = df_hour.select_dtypes(include=\"number\")\n",
    "\n",
    "# Reamostrar de 5h em 5h e calcular média\n",
    "df_5h = df_numeric.resample(\"5h\").mean().reset_index()\n",
    "\n",
    "print(df_5h.head())\n",
    "df_5h"
   ]
  },
  {
   "cell_type": "code",
   "execution_count": 28,
   "id": "c15c7853",
   "metadata": {},
   "outputs": [
    {
     "data": {
      "application/vnd.microsoft.datawrangler.viewer.v0+json": {
       "columns": [
        {
         "name": "index",
         "rawType": "int64",
         "type": "integer"
        },
        {
         "name": "time",
         "rawType": "datetime64[ns]",
         "type": "datetime"
        },
        {
         "name": "feelslike_c",
         "rawType": "float64",
         "type": "float"
        },
        {
         "name": "humidity",
         "rawType": "float64",
         "type": "float"
        },
        {
         "name": "cloud",
         "rawType": "float64",
         "type": "float"
        },
        {
         "name": "uv",
         "rawType": "float64",
         "type": "float"
        },
        {
         "name": "wind_kph",
         "rawType": "float64",
         "type": "float"
        },
        {
         "name": "will_it_rain",
         "rawType": "float64",
         "type": "float"
        },
        {
         "name": "chance_of_rain",
         "rawType": "float64",
         "type": "float"
        }
       ],
       "ref": "6dad82e0-9dea-4a44-aad6-b96608274c01",
       "rows": [
        [
         "2",
         "2025-10-26 10:00:00",
         "19.919999999999998",
         "65.2",
         "38.8",
         "5.68",
         "4.540000000000001",
         "0.0",
         "0.0"
        ],
        [
         "3",
         "2025-10-26 15:00:00",
         "17.080000000000002",
         "86.0",
         "72.2",
         "0.72",
         "4.9799999999999995",
         "1.0",
         "93.6"
        ],
        [
         "4",
         "2025-10-26 20:00:00",
         "15.775",
         "95.25",
         "64.75",
         "0.0",
         "4.8",
         "0.25",
         "25.0"
        ],
        [
         "1",
         "2025-10-26 05:00:00",
         "18.619999999999997",
         "59.2",
         "42.6",
         "0.6",
         "5.4",
         "0.0",
         "13.2"
        ],
        [
         "0",
         "2025-10-26 00:00:00",
         "17.16",
         "58.6",
         "5.0",
         "0.0",
         "4.92",
         "0.0",
         "0.0"
        ]
       ],
       "shape": {
        "columns": 8,
        "rows": 5
       }
      },
      "text/html": [
       "<div>\n",
       "<style scoped>\n",
       "    .dataframe tbody tr th:only-of-type {\n",
       "        vertical-align: middle;\n",
       "    }\n",
       "\n",
       "    .dataframe tbody tr th {\n",
       "        vertical-align: top;\n",
       "    }\n",
       "\n",
       "    .dataframe thead th {\n",
       "        text-align: right;\n",
       "    }\n",
       "</style>\n",
       "<table border=\"1\" class=\"dataframe\">\n",
       "  <thead>\n",
       "    <tr style=\"text-align: right;\">\n",
       "      <th></th>\n",
       "      <th>time</th>\n",
       "      <th>feelslike_c</th>\n",
       "      <th>humidity</th>\n",
       "      <th>cloud</th>\n",
       "      <th>uv</th>\n",
       "      <th>wind_kph</th>\n",
       "      <th>will_it_rain</th>\n",
       "      <th>chance_of_rain</th>\n",
       "    </tr>\n",
       "  </thead>\n",
       "  <tbody>\n",
       "    <tr>\n",
       "      <th>2</th>\n",
       "      <td>2025-10-26 10:00:00</td>\n",
       "      <td>19.920</td>\n",
       "      <td>65.20</td>\n",
       "      <td>38.80</td>\n",
       "      <td>5.68</td>\n",
       "      <td>4.54</td>\n",
       "      <td>0.00</td>\n",
       "      <td>0.0</td>\n",
       "    </tr>\n",
       "    <tr>\n",
       "      <th>3</th>\n",
       "      <td>2025-10-26 15:00:00</td>\n",
       "      <td>17.080</td>\n",
       "      <td>86.00</td>\n",
       "      <td>72.20</td>\n",
       "      <td>0.72</td>\n",
       "      <td>4.98</td>\n",
       "      <td>1.00</td>\n",
       "      <td>93.6</td>\n",
       "    </tr>\n",
       "    <tr>\n",
       "      <th>4</th>\n",
       "      <td>2025-10-26 20:00:00</td>\n",
       "      <td>15.775</td>\n",
       "      <td>95.25</td>\n",
       "      <td>64.75</td>\n",
       "      <td>0.00</td>\n",
       "      <td>4.80</td>\n",
       "      <td>0.25</td>\n",
       "      <td>25.0</td>\n",
       "    </tr>\n",
       "    <tr>\n",
       "      <th>1</th>\n",
       "      <td>2025-10-26 05:00:00</td>\n",
       "      <td>18.620</td>\n",
       "      <td>59.20</td>\n",
       "      <td>42.60</td>\n",
       "      <td>0.60</td>\n",
       "      <td>5.40</td>\n",
       "      <td>0.00</td>\n",
       "      <td>13.2</td>\n",
       "    </tr>\n",
       "    <tr>\n",
       "      <th>0</th>\n",
       "      <td>2025-10-26 00:00:00</td>\n",
       "      <td>17.160</td>\n",
       "      <td>58.60</td>\n",
       "      <td>5.00</td>\n",
       "      <td>0.00</td>\n",
       "      <td>4.92</td>\n",
       "      <td>0.00</td>\n",
       "      <td>0.0</td>\n",
       "    </tr>\n",
       "  </tbody>\n",
       "</table>\n",
       "</div>"
      ],
      "text/plain": [
       "                 time  feelslike_c  humidity  cloud    uv  wind_kph  \\\n",
       "2 2025-10-26 10:00:00       19.920     65.20  38.80  5.68      4.54   \n",
       "3 2025-10-26 15:00:00       17.080     86.00  72.20  0.72      4.98   \n",
       "4 2025-10-26 20:00:00       15.775     95.25  64.75  0.00      4.80   \n",
       "1 2025-10-26 05:00:00       18.620     59.20  42.60  0.60      5.40   \n",
       "0 2025-10-26 00:00:00       17.160     58.60   5.00  0.00      4.92   \n",
       "\n",
       "   will_it_rain  chance_of_rain  \n",
       "2          0.00             0.0  \n",
       "3          1.00            93.6  \n",
       "4          0.25            25.0  \n",
       "1          0.00            13.2  \n",
       "0          0.00             0.0  "
      ]
     },
     "execution_count": 28,
     "metadata": {},
     "output_type": "execute_result"
    }
   ],
   "source": [
    "colunas_importantes = [\n",
    "    \"time\",\n",
    "    \"feelslike_c\",\n",
    "    \"humidity\",\n",
    "    \"cloud\",\n",
    "    \"uv\",\n",
    "    \"wind_kph\",\n",
    "    \"will_it_rain\",\n",
    "    \"chance_of_rain\",\n",
    "]\n",
    "\n",
    "df_limpo = df_5h[[c for c in colunas_importantes if c in df_5h.columns]]\n",
    "df_limpo.sample(5)"
   ]
  }
 ],
 "metadata": {
  "kernelspec": {
   "display_name": "Python 3",
   "language": "python",
   "name": "python3"
  },
  "language_info": {
   "codemirror_mode": {
    "name": "ipython",
    "version": 3
   },
   "file_extension": ".py",
   "mimetype": "text/x-python",
   "name": "python",
   "nbconvert_exporter": "python",
   "pygments_lexer": "ipython3",
   "version": "3.13.9"
  }
 },
 "nbformat": 4,
 "nbformat_minor": 5
}
