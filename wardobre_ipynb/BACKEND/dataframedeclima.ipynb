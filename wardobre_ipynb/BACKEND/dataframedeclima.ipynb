{
 "cells": [
  {
   "cell_type": "code",
   "execution_count": 1,
   "id": "c49ec7a0",
   "metadata": {},
   "outputs": [],
   "source": [
    "import pandas as pd\n",
    "import numpy as np\n",
    "import requests\n",
    "from sklearn.model_selection import train_test_split\n",
    "from sklearn.tree import DecisionTreeClassifier"
   ]
  },
  {
   "cell_type": "code",
   "execution_count": 2,
   "id": "2bb7b853",
   "metadata": {},
   "outputs": [],
   "source": [
    "pd.set_option('display.max_columns', None)\n",
    "pd.set_option('display.max_rows', None)\n"
   ]
  },
  {
   "cell_type": "code",
   "execution_count": 3,
   "id": "0273a236",
   "metadata": {},
   "outputs": [
    {
     "data": {
      "text/html": [
       "<div>\n",
       "<style scoped>\n",
       "    .dataframe tbody tr th:only-of-type {\n",
       "        vertical-align: middle;\n",
       "    }\n",
       "\n",
       "    .dataframe tbody tr th {\n",
       "        vertical-align: top;\n",
       "    }\n",
       "\n",
       "    .dataframe thead th {\n",
       "        text-align: right;\n",
       "    }\n",
       "</style>\n",
       "<table border=\"1\" class=\"dataframe\">\n",
       "  <thead>\n",
       "    <tr style=\"text-align: right;\">\n",
       "      <th></th>\n",
       "      <th>location.name</th>\n",
       "      <th>location.region</th>\n",
       "      <th>location.country</th>\n",
       "      <th>location.lat</th>\n",
       "      <th>location.lon</th>\n",
       "      <th>location.tz_id</th>\n",
       "      <th>location.localtime_epoch</th>\n",
       "      <th>location.localtime</th>\n",
       "      <th>current.last_updated_epoch</th>\n",
       "      <th>current.last_updated</th>\n",
       "      <th>current.temp_c</th>\n",
       "      <th>current.temp_f</th>\n",
       "      <th>current.is_day</th>\n",
       "      <th>current.condition.text</th>\n",
       "      <th>current.condition.icon</th>\n",
       "      <th>current.condition.code</th>\n",
       "      <th>current.wind_mph</th>\n",
       "      <th>current.wind_kph</th>\n",
       "      <th>current.wind_degree</th>\n",
       "      <th>current.wind_dir</th>\n",
       "      <th>current.pressure_mb</th>\n",
       "      <th>current.pressure_in</th>\n",
       "      <th>current.precip_mm</th>\n",
       "      <th>current.precip_in</th>\n",
       "      <th>current.humidity</th>\n",
       "      <th>current.cloud</th>\n",
       "      <th>current.feelslike_c</th>\n",
       "      <th>current.feelslike_f</th>\n",
       "      <th>current.windchill_c</th>\n",
       "      <th>current.windchill_f</th>\n",
       "      <th>current.heatindex_c</th>\n",
       "      <th>current.heatindex_f</th>\n",
       "      <th>current.dewpoint_c</th>\n",
       "      <th>current.dewpoint_f</th>\n",
       "      <th>current.vis_km</th>\n",
       "      <th>current.vis_miles</th>\n",
       "      <th>current.uv</th>\n",
       "      <th>current.gust_mph</th>\n",
       "      <th>current.gust_kph</th>\n",
       "      <th>forecast.forecastday</th>\n",
       "    </tr>\n",
       "  </thead>\n",
       "  <tbody>\n",
       "    <tr>\n",
       "      <th>0</th>\n",
       "      <td>Curitiba</td>\n",
       "      <td>Parana</td>\n",
       "      <td>Brazil</td>\n",
       "      <td>-25.4167</td>\n",
       "      <td>-49.25</td>\n",
       "      <td>America/Sao_Paulo</td>\n",
       "      <td>1759026332</td>\n",
       "      <td>2025-09-27 23:25</td>\n",
       "      <td>1759025700</td>\n",
       "      <td>2025-09-27 23:15</td>\n",
       "      <td>13.2</td>\n",
       "      <td>55.8</td>\n",
       "      <td>0</td>\n",
       "      <td>Parcialmente nublado</td>\n",
       "      <td>//cdn.weatherapi.com/weather/64x64/night/116.png</td>\n",
       "      <td>1003</td>\n",
       "      <td>6.3</td>\n",
       "      <td>10.1</td>\n",
       "      <td>85</td>\n",
       "      <td>E</td>\n",
       "      <td>1024.0</td>\n",
       "      <td>30.24</td>\n",
       "      <td>0.0</td>\n",
       "      <td>0.0</td>\n",
       "      <td>94</td>\n",
       "      <td>75</td>\n",
       "      <td>12.4</td>\n",
       "      <td>54.4</td>\n",
       "      <td>9.5</td>\n",
       "      <td>49.1</td>\n",
       "      <td>10.7</td>\n",
       "      <td>51.3</td>\n",
       "      <td>9.4</td>\n",
       "      <td>48.9</td>\n",
       "      <td>10.0</td>\n",
       "      <td>6.0</td>\n",
       "      <td>0.0</td>\n",
       "      <td>8.8</td>\n",
       "      <td>14.1</td>\n",
       "      <td>[{'date': '2025-09-27', 'date_epoch': 17589312...</td>\n",
       "    </tr>\n",
       "  </tbody>\n",
       "</table>\n",
       "</div>"
      ],
      "text/plain": [
       "  location.name location.region location.country  location.lat  location.lon  \\\n",
       "0      Curitiba          Parana           Brazil      -25.4167        -49.25   \n",
       "\n",
       "      location.tz_id  location.localtime_epoch location.localtime  \\\n",
       "0  America/Sao_Paulo                1759026332   2025-09-27 23:25   \n",
       "\n",
       "   current.last_updated_epoch current.last_updated  current.temp_c  \\\n",
       "0                  1759025700     2025-09-27 23:15            13.2   \n",
       "\n",
       "   current.temp_f  current.is_day current.condition.text  \\\n",
       "0            55.8               0   Parcialmente nublado   \n",
       "\n",
       "                             current.condition.icon  current.condition.code  \\\n",
       "0  //cdn.weatherapi.com/weather/64x64/night/116.png                    1003   \n",
       "\n",
       "   current.wind_mph  current.wind_kph  current.wind_degree current.wind_dir  \\\n",
       "0               6.3              10.1                   85                E   \n",
       "\n",
       "   current.pressure_mb  current.pressure_in  current.precip_mm  \\\n",
       "0               1024.0                30.24                0.0   \n",
       "\n",
       "   current.precip_in  current.humidity  current.cloud  current.feelslike_c  \\\n",
       "0                0.0                94             75                 12.4   \n",
       "\n",
       "   current.feelslike_f  current.windchill_c  current.windchill_f  \\\n",
       "0                 54.4                  9.5                 49.1   \n",
       "\n",
       "   current.heatindex_c  current.heatindex_f  current.dewpoint_c  \\\n",
       "0                 10.7                 51.3                 9.4   \n",
       "\n",
       "   current.dewpoint_f  current.vis_km  current.vis_miles  current.uv  \\\n",
       "0                48.9            10.0                6.0         0.0   \n",
       "\n",
       "   current.gust_mph  current.gust_kph  \\\n",
       "0               8.8              14.1   \n",
       "\n",
       "                                forecast.forecastday  \n",
       "0  [{'date': '2025-09-27', 'date_epoch': 17589312...  "
      ]
     },
     "execution_count": 3,
     "metadata": {},
     "output_type": "execute_result"
    }
   ],
   "source": [
    "\n",
    "\n",
    "\n",
    "API_KEY = \"8edf5a3557214b83a8d24412250109\"\n",
    "local = \"Curitiba\"  # pode ser \"Curitiba, Brazil\" ou latitude\n",
    "url = \"http://api.weatherapi.com/v1/forecast.json\"\n",
    "params = {\n",
    "    \"key\": API_KEY,\n",
    "    \"q\": local,\n",
    "    \"lang\": \"pt\",     # opcional: traduz descrições para português\n",
    "    \"aqi\": \"no\"       # opcional: inclui dados de qualidade do ar\n",
    "}\n",
    "\n",
    "try:\n",
    "    response = requests.get(url, params=params)\n",
    "    response.raise_for_status()\n",
    "    dados = response.json()\n",
    "    \n",
    "    # Exemplo de como acessar alguns dados:\n",
    "    # temperatura = dados[\"current\"][\"temp_c\"]\n",
    "    # descricao = dados[\"current\"][\"condition\"][\"text\"]\n",
    "    # umidade = dados[\"current\"][\"humidity\"]\n",
    "    # vento = dados[\"current\"][\"wind_kph\"]\n",
    "\n",
    "    # print(f\"Tempo em {dados['location']['name']}: {descricao.capitalize()}\")\n",
    "    # print(f\"Temperatura: {temperatura} °C\")\n",
    "    # print(f\"Umidade: {umidade}%\")\n",
    "    # print(f\"Vento: {vento} km/h\")\n",
    "   # print(dados)\n",
    "\n",
    "except requests.exceptions.HTTPError as err:\n",
    "    print(f\"Erro HTTP: {err} — código: {response.status_code}\")\n",
    "except ValueError:\n",
    "    print(\"Erro ao decodificar JSON.\")\n",
    "except Exception as e:\n",
    "    print(f\"Ocorreu um erro: {e}\")\n",
    "\n",
    "df = pd.json_normalize(dados)\n",
    "df\n",
    "\n",
    "    \n"
   ]
  },
  {
   "cell_type": "code",
   "execution_count": 4,
   "id": "73462dce",
   "metadata": {},
   "outputs": [
    {
     "data": {
      "text/html": [
       "<div>\n",
       "<style scoped>\n",
       "    .dataframe tbody tr th:only-of-type {\n",
       "        vertical-align: middle;\n",
       "    }\n",
       "\n",
       "    .dataframe tbody tr th {\n",
       "        vertical-align: top;\n",
       "    }\n",
       "\n",
       "    .dataframe thead th {\n",
       "        text-align: right;\n",
       "    }\n",
       "</style>\n",
       "<table border=\"1\" class=\"dataframe\">\n",
       "  <thead>\n",
       "    <tr style=\"text-align: right;\">\n",
       "      <th></th>\n",
       "      <th>date</th>\n",
       "      <th>date_epoch</th>\n",
       "      <th>hour</th>\n",
       "      <th>day.maxtemp_c</th>\n",
       "      <th>day.maxtemp_f</th>\n",
       "      <th>day.mintemp_c</th>\n",
       "      <th>day.mintemp_f</th>\n",
       "      <th>day.avgtemp_c</th>\n",
       "      <th>day.avgtemp_f</th>\n",
       "      <th>day.maxwind_mph</th>\n",
       "      <th>day.maxwind_kph</th>\n",
       "      <th>day.totalprecip_mm</th>\n",
       "      <th>day.totalprecip_in</th>\n",
       "      <th>day.totalsnow_cm</th>\n",
       "      <th>day.avgvis_km</th>\n",
       "      <th>day.avgvis_miles</th>\n",
       "      <th>day.avghumidity</th>\n",
       "      <th>day.daily_will_it_rain</th>\n",
       "      <th>day.daily_chance_of_rain</th>\n",
       "      <th>day.daily_will_it_snow</th>\n",
       "      <th>day.daily_chance_of_snow</th>\n",
       "      <th>day.condition.text</th>\n",
       "      <th>day.condition.icon</th>\n",
       "      <th>day.condition.code</th>\n",
       "      <th>day.uv</th>\n",
       "      <th>astro.sunrise</th>\n",
       "      <th>astro.sunset</th>\n",
       "      <th>astro.moonrise</th>\n",
       "      <th>astro.moonset</th>\n",
       "      <th>astro.moon_phase</th>\n",
       "      <th>astro.moon_illumination</th>\n",
       "      <th>astro.is_moon_up</th>\n",
       "      <th>astro.is_sun_up</th>\n",
       "    </tr>\n",
       "  </thead>\n",
       "  <tbody>\n",
       "    <tr>\n",
       "      <th>0</th>\n",
       "      <td>2025-09-27</td>\n",
       "      <td>1758931200</td>\n",
       "      <td>[{'time_epoch': 1758942000, 'time': '2025-09-2...</td>\n",
       "      <td>20.5</td>\n",
       "      <td>69.0</td>\n",
       "      <td>7.7</td>\n",
       "      <td>45.8</td>\n",
       "      <td>12.7</td>\n",
       "      <td>54.9</td>\n",
       "      <td>8.7</td>\n",
       "      <td>14.0</td>\n",
       "      <td>0.02</td>\n",
       "      <td>0.0</td>\n",
       "      <td>0.0</td>\n",
       "      <td>8.0</td>\n",
       "      <td>4.0</td>\n",
       "      <td>80</td>\n",
       "      <td>0</td>\n",
       "      <td>0</td>\n",
       "      <td>0</td>\n",
       "      <td>0</td>\n",
       "      <td>Parcialmente nublado</td>\n",
       "      <td>//cdn.weatherapi.com/weather/64x64/day/116.png</td>\n",
       "      <td>1003</td>\n",
       "      <td>2.6</td>\n",
       "      <td>06:01 AM</td>\n",
       "      <td>06:15 PM</td>\n",
       "      <td>09:14 AM</td>\n",
       "      <td>11:35 PM</td>\n",
       "      <td>Waxing Crescent</td>\n",
       "      <td>23</td>\n",
       "      <td>0</td>\n",
       "      <td>0</td>\n",
       "    </tr>\n",
       "  </tbody>\n",
       "</table>\n",
       "</div>"
      ],
      "text/plain": [
       "         date  date_epoch                                               hour  \\\n",
       "0  2025-09-27  1758931200  [{'time_epoch': 1758942000, 'time': '2025-09-2...   \n",
       "\n",
       "   day.maxtemp_c  day.maxtemp_f  day.mintemp_c  day.mintemp_f  day.avgtemp_c  \\\n",
       "0           20.5           69.0            7.7           45.8           12.7   \n",
       "\n",
       "   day.avgtemp_f  day.maxwind_mph  day.maxwind_kph  day.totalprecip_mm  \\\n",
       "0           54.9              8.7             14.0                0.02   \n",
       "\n",
       "   day.totalprecip_in  day.totalsnow_cm  day.avgvis_km  day.avgvis_miles  \\\n",
       "0                 0.0               0.0            8.0               4.0   \n",
       "\n",
       "   day.avghumidity  day.daily_will_it_rain  day.daily_chance_of_rain  \\\n",
       "0               80                       0                         0   \n",
       "\n",
       "   day.daily_will_it_snow  day.daily_chance_of_snow    day.condition.text  \\\n",
       "0                       0                         0  Parcialmente nublado   \n",
       "\n",
       "                               day.condition.icon  day.condition.code  day.uv  \\\n",
       "0  //cdn.weatherapi.com/weather/64x64/day/116.png                1003     2.6   \n",
       "\n",
       "  astro.sunrise astro.sunset astro.moonrise astro.moonset astro.moon_phase  \\\n",
       "0      06:01 AM     06:15 PM       09:14 AM      11:35 PM  Waxing Crescent   \n",
       "\n",
       "   astro.moon_illumination  astro.is_moon_up  astro.is_sun_up  \n",
       "0                       23                 0                0  "
      ]
     },
     "execution_count": 4,
     "metadata": {},
     "output_type": "execute_result"
    }
   ],
   "source": [
    "forecast_list = dados[\"forecast\"][\"forecastday\"]\n",
    "df_forecast = pd.json_normalize(forecast_list)\n",
    "df_forecast\n"
   ]
  },
  {
   "cell_type": "code",
   "execution_count": 5,
   "id": "9501fc07",
   "metadata": {},
   "outputs": [
    {
     "ename": "NameError",
     "evalue": "name 'hour_list' is not defined",
     "output_type": "error",
     "traceback": [
      "\u001b[31m---------------------------------------------------------------------------\u001b[39m",
      "\u001b[31mNameError\u001b[39m                                 Traceback (most recent call last)",
      "\u001b[36mCell\u001b[39m\u001b[36m \u001b[39m\u001b[32mIn[5]\u001b[39m\u001b[32m, line 1\u001b[39m\n\u001b[32m----> \u001b[39m\u001b[32m1\u001b[39m df_hour = pd.json_normalize(\u001b[43mhour_list\u001b[49m)\n\u001b[32m      3\u001b[39m \u001b[38;5;66;03m# Converter para datetime (se ainda não estiver)\u001b[39;00m\n\u001b[32m      4\u001b[39m df_hour[\u001b[33m\"\u001b[39m\u001b[33mtime\u001b[39m\u001b[33m\"\u001b[39m] = pd.to_datetime(df_hour[\u001b[33m\"\u001b[39m\u001b[33mtime\u001b[39m\u001b[33m\"\u001b[39m])\n",
      "\u001b[31mNameError\u001b[39m: name 'hour_list' is not defined"
     ]
    }
   ],
   "source": [
    "df_hour = pd.json_normalize(hour_list)\n",
    "\n",
    "# Converter para datetime (se ainda não estiver)\n",
    "df_hour[\"time\"] = pd.to_datetime(df_hour[\"time\"])\n",
    "\n",
    "# Definir como índice\n",
    "df_hour = df_hour.set_index(\"time\")\n",
    "\n",
    "# Selecionar apenas colunas numéricas\n",
    "df_numeric = df_hour.select_dtypes(include=\"number\")\n",
    "\n",
    "# Reamostrar de 5h em 5h e calcular média\n",
    "df_5h = df_numeric.resample(\"5h\").mean().reset_index()\n",
    "\n",
    "print(df_5h.head())\n",
    "\n",
    "df_5h"
   ]
  },
  {
   "cell_type": "code",
   "execution_count": null,
   "id": "9873f6ea",
   "metadata": {},
   "outputs": [
    {
     "ename": "Error",
     "evalue": "Not connected to OpenGRID Jupyter server",
     "output_type": "error",
     "traceback": [
      "Error: Not connected to OpenGRID Jupyter server\n",
      "    at Gl._executeCellWithController (c:\\Users\\diona\\.trae\\extensions\\willowselectric.jupyter-notebook-integration-1.4.4-universal\\out\\extension.js:56:8481)\n",
      "    at Gl._executeJupyter (c:\\Users\\diona\\.trae\\extensions\\willowselectric.jupyter-notebook-integration-1.4.4-universal\\out\\extension.js:56:7853)\n",
      "    at processTicksAndRejections (node:internal/process/task_queues:95:5)\n",
      "    at FE.$executeCells (file:///c:/Users/diona/AppData/Local/Programs/Trae/resources/app/out/vs/workbench/api/node/extensionHostProcess.js:174:24139)"
     ]
    }
   ],
   "source": [
    "X_train, X_test, y_train, y_test = train_test_split(X, y, test_size=0.2, random_state=42)\n",
    "\n",
    "clf = DecisionTreeClassifier(max_depth=4, random_state=42)\n",
    "clf.fit(X_train, y_train)\n"
   ]
  },
  {
   "cell_type": "code",
   "execution_count": null,
   "id": "c15c7853",
   "metadata": {},
   "outputs": [
    {
     "ename": "Error",
     "evalue": "Not connected to OpenGRID Jupyter server",
     "output_type": "error",
     "traceback": [
      "Error: Not connected to OpenGRID Jupyter server\n",
      "    at Gl._executeCellWithController (c:\\Users\\diona\\.trae\\extensions\\willowselectric.jupyter-notebook-integration-1.4.4-universal\\out\\extension.js:56:8481)\n",
      "    at Gl._executeJupyter (c:\\Users\\diona\\.trae\\extensions\\willowselectric.jupyter-notebook-integration-1.4.4-universal\\out\\extension.js:56:7853)\n",
      "    at processTicksAndRejections (node:internal/process/task_queues:95:5)\n",
      "    at FE.$executeCells (file:///c:/Users/diona/AppData/Local/Programs/Trae/resources/app/out/vs/workbench/api/node/extensionHostProcess.js:174:24139)"
     ]
    }
   ],
   "source": [
    "colunas_importantes = [\n",
    "    \"time\",\n",
    "    \"feelslike_c\",\n",
    "    \"humidity\",\n",
    "    \"cloud\",\n",
    "    \"uv\",\n",
    "    \"wind_kph\",\n",
    "    \"will_it_rain\",\n",
    "    \"chance_of_rain\",\n",
    "]\n",
    "\n",
    "df_limpo = df_5h[[c for c in colunas_importantes if c in df_5h.columns]]\n",
    "df_limpo.sample(5)"
   ]
  },
  {
   "cell_type": "code",
   "execution_count": null,
   "id": "8c34c767",
   "metadata": {},
   "outputs": [
    {
     "ename": "Error",
     "evalue": "Not connected to OpenGRID Jupyter server",
     "output_type": "error",
     "traceback": [
      "Error: Not connected to OpenGRID Jupyter server\n",
      "    at Gl._executeCellWithController (c:\\Users\\diona\\.trae\\extensions\\willowselectric.jupyter-notebook-integration-1.4.4-universal\\out\\extension.js:56:8481)\n",
      "    at Gl._executeJupyter (c:\\Users\\diona\\.trae\\extensions\\willowselectric.jupyter-notebook-integration-1.4.4-universal\\out\\extension.js:56:7853)\n",
      "    at processTicksAndRejections (node:internal/process/task_queues:95:5)\n",
      "    at FE.$executeCells (file:///c:/Users/diona/AppData/Local/Programs/Trae/resources/app/out/vs/workbench/api/node/extensionHostProcess.js:174:24139)"
     ]
    }
   ],
   "source": [
    "df_tabela1 = pd.DataFrame({\n",
    "    \"estilos\": [\"casual\", \"esportivo\", \"social\", \"streetwear\"],\n",
    "    \"data e hora\": df_limpo[\"time\"].values[:4],\n",
    "    \"temperatura\": df_limpo[\"feelslike_c\"].values[:4],\n",
    "    \"chance de chuva\": df_limpo[\"chance_of_rain\"].values[:4],\n",
    "    \"umidade\": df_limpo[\"humidity\"].values[:4],\n",
    "    \"uv\": df_limpo[\"uv\"].values[:4],\n",
    "})\n",
    "\n",
    "df_tabela1"
   ]
  },
  {
   "cell_type": "code",
   "execution_count": null,
   "id": "812b4356",
   "metadata": {},
   "outputs": [
    {
     "ename": "Error",
     "evalue": "Not connected to OpenGRID Jupyter server",
     "output_type": "error",
     "traceback": [
      "Error: Not connected to OpenGRID Jupyter server\n",
      "    at Gl._executeCellWithController (c:\\Users\\diona\\.trae\\extensions\\willowselectric.jupyter-notebook-integration-1.4.4-universal\\out\\extension.js:56:8481)\n",
      "    at Gl._executeJupyter (c:\\Users\\diona\\.trae\\extensions\\willowselectric.jupyter-notebook-integration-1.4.4-universal\\out\\extension.js:56:7853)\n",
      "    at processTicksAndRejections (node:internal/process/task_queues:95:5)\n",
      "    at FE.$executeCells (file:///c:/Users/diona/AppData/Local/Programs/Trae/resources/app/out/vs/workbench/api/node/extensionHostProcess.js:174:24139)"
     ]
    }
   ],
   "source": [
    "# Garante que 'data e hora' seja do tipo datetime\n",
    "df_tabela1['data e hora'] = pd.to_datetime(df_tabela1['data e hora'])\n",
    "\n",
    "# Extrai hora, minuto, dia, etc.\n",
    "df_tabela1['hora'] = df_tabela1['data e hora'].dt.hour\n",
    "df_tabela1['dia'] = df_tabela1['data e hora'].dt.day\n",
    "df_tabela1['mes'] = df_tabela1['data e hora'].dt.month"
   ]
  },
  {
   "cell_type": "code",
   "execution_count": null,
   "id": "4099b147",
   "metadata": {},
   "outputs": [
    {
     "ename": "Error",
     "evalue": "Not connected to OpenGRID Jupyter server",
     "output_type": "error",
     "traceback": [
      "Error: Not connected to OpenGRID Jupyter server\n",
      "    at Gl._executeCellWithController (c:\\Users\\diona\\.trae\\extensions\\willowselectric.jupyter-notebook-integration-1.4.4-universal\\out\\extension.js:56:8481)\n",
      "    at Gl._executeJupyter (c:\\Users\\diona\\.trae\\extensions\\willowselectric.jupyter-notebook-integration-1.4.4-universal\\out\\extension.js:56:7853)\n",
      "    at processTicksAndRejections (node:internal/process/task_queues:95:5)\n",
      "    at FE.$executeCells (file:///c:/Users/diona/AppData/Local/Programs/Trae/resources/app/out/vs/workbench/api/node/extensionHostProcess.js:174:24139)"
     ]
    }
   ],
   "source": [
    "print(df_tabela1.columns.tolist())"
   ]
  },
  {
   "cell_type": "code",
   "execution_count": null,
   "id": "855b8e4f",
   "metadata": {},
   "outputs": [
    {
     "ename": "Error",
     "evalue": "Not connected to OpenGRID Jupyter server",
     "output_type": "error",
     "traceback": [
      "Error: Not connected to OpenGRID Jupyter server\n",
      "    at Gl._executeCellWithController (c:\\Users\\diona\\.trae\\extensions\\willowselectric.jupyter-notebook-integration-1.4.4-universal\\out\\extension.js:56:8481)\n",
      "    at Gl._executeJupyter (c:\\Users\\diona\\.trae\\extensions\\willowselectric.jupyter-notebook-integration-1.4.4-universal\\out\\extension.js:56:7853)\n",
      "    at processTicksAndRejections (node:internal/process/task_queues:95:5)\n",
      "    at FE.$executeCells (file:///c:/Users/diona/AppData/Local/Programs/Trae/resources/app/out/vs/workbench/api/node/extensionHostProcess.js:174:24139)"
     ]
    }
   ],
   "source": [
    "#transformando variáveis e em um número categorico \n",
    "\n",
    "X = df_tabela1[['temperatura', 'chance de chuva', 'umidade', 'uv', 'hora']]  # todas numéricas\n",
    "y = df_tabela1['estilos']  # variável alvo"
   ]
  },
  {
   "cell_type": "code",
   "execution_count": null,
   "id": "b051638b",
   "metadata": {},
   "outputs": [
    {
     "ename": "Error",
     "evalue": "Not connected to OpenGRID Jupyter server",
     "output_type": "error",
     "traceback": [
      "Error: Not connected to OpenGRID Jupyter server\n",
      "    at Gl._executeCellWithController (c:\\Users\\diona\\.trae\\extensions\\willowselectric.jupyter-notebook-integration-1.4.4-universal\\out\\extension.js:56:8481)\n",
      "    at Gl._executeJupyter (c:\\Users\\diona\\.trae\\extensions\\willowselectric.jupyter-notebook-integration-1.4.4-universal\\out\\extension.js:56:7853)\n",
      "    at processTicksAndRejections (node:internal/process/task_queues:95:5)\n",
      "    at FE.$executeCells (file:///c:/Users/diona/AppData/Local/Programs/Trae/resources/app/out/vs/workbench/api/node/extensionHostProcess.js:174:24139)"
     ]
    }
   ],
   "source": [
    "X_train, X_test, y_train, y_test = train_test_split(X, y, test_size=0.2, random_state=42)\n",
    "\n",
    "clf = DecisionTreeClassifier(max_depth=4, random_state=42)\n",
    "clf.fit(X_train, y_train)\n"
   ]
  },
  {
   "cell_type": "code",
   "execution_count": null,
   "id": "8cdead94",
   "metadata": {},
   "outputs": [
    {
     "ename": "Error",
     "evalue": "Not connected to OpenGRID Jupyter server",
     "output_type": "error",
     "traceback": [
      "Error: Not connected to OpenGRID Jupyter server\n",
      "    at Gl._executeCellWithController (c:\\Users\\diona\\.trae\\extensions\\willowselectric.jupyter-notebook-integration-1.4.4-universal\\out\\extension.js:56:8481)\n",
      "    at Gl._executeJupyter (c:\\Users\\diona\\.trae\\extensions\\willowselectric.jupyter-notebook-integration-1.4.4-universal\\out\\extension.js:56:7853)\n",
      "    at processTicksAndRejections (node:internal/process/task_queues:95:5)\n",
      "    at FE.$executeCells (file:///c:/Users/diona/AppData/Local/Programs/Trae/resources/app/out/vs/workbench/api/node/extensionHostProcess.js:174:24139)"
     ]
    }
   ],
   "source": [
    "X_train, X_test, y_train, y_test = train_test_split(X, y, test_size=0.2, random_state=42)\n",
    "\n",
    "clf = DecisionTreeClassifier(max_depth=4, random_state=42)\n",
    "clf.fit(X_train, y_train)\n"
   ]
  },
  {
   "cell_type": "code",
   "execution_count": null,
   "id": "10605545",
   "metadata": {},
   "outputs": [
    {
     "ename": "Error",
     "evalue": "Not connected to OpenGRID Jupyter server",
     "output_type": "error",
     "traceback": [
      "Error: Not connected to OpenGRID Jupyter server\n",
      "    at Gl._executeCellWithController (c:\\Users\\diona\\.trae\\extensions\\willowselectric.jupyter-notebook-integration-1.4.4-universal\\out\\extension.js:56:8481)\n",
      "    at Gl._executeJupyter (c:\\Users\\diona\\.trae\\extensions\\willowselectric.jupyter-notebook-integration-1.4.4-universal\\out\\extension.js:56:7853)\n",
      "    at processTicksAndRejections (node:internal/process/task_queues:95:5)\n",
      "    at FE.$executeCells (file:///c:/Users/diona/AppData/Local/Programs/Trae/resources/app/out/vs/workbench/api/node/extensionHostProcess.js:174:24139)"
     ]
    }
   ],
   "source": [
    "X_train, X_test, y_train, y_test = train_test_split(X, y, test_size=0.2, random_state=42)\n",
    "\n",
    "clf = DecisionTreeClassifier(max_depth=4, random_state=42)\n",
    "clf.fit(X_train, y_train)\n"
   ]
  },
  {
   "cell_type": "code",
   "execution_count": null,
   "id": "6dd174ab",
   "metadata": {},
   "outputs": [
    {
     "ename": "Error",
     "evalue": "Not connected to OpenGRID Jupyter server",
     "output_type": "error",
     "traceback": [
      "Error: Not connected to OpenGRID Jupyter server\n",
      "    at Gl._executeCellWithController (c:\\Users\\diona\\.trae\\extensions\\willowselectric.jupyter-notebook-integration-1.4.4-universal\\out\\extension.js:56:8481)\n",
      "    at Gl._executeJupyter (c:\\Users\\diona\\.trae\\extensions\\willowselectric.jupyter-notebook-integration-1.4.4-universal\\out\\extension.js:56:7853)\n",
      "    at processTicksAndRejections (node:internal/process/task_queues:95:5)\n",
      "    at FE.$executeCells (file:///c:/Users/diona/AppData/Local/Programs/Trae/resources/app/out/vs/workbench/api/node/extensionHostProcess.js:174:24139)"
     ]
    }
   ],
   "source": [
    "# Supondo que df_tabela1 já tenha a coluna 'hora' extraída\n",
    "X_dummies = df_tabela1[['temperatura', 'chance de chuva', 'umidade', 'uv', 'hora']]"
   ]
  },
  {
   "cell_type": "code",
   "execution_count": null,
   "id": "ee226168",
   "metadata": {},
   "outputs": [
    {
     "ename": "Error",
     "evalue": "Not connected to OpenGRID Jupyter server",
     "output_type": "error",
     "traceback": [
      "Error: Not connected to OpenGRID Jupyter server\n",
      "    at Gl._executeCellWithController (c:\\Users\\diona\\.trae\\extensions\\willowselectric.jupyter-notebook-integration-1.4.4-universal\\out\\extension.js:56:8481)\n",
      "    at Gl._executeJupyter (c:\\Users\\diona\\.trae\\extensions\\willowselectric.jupyter-notebook-integration-1.4.4-universal\\out\\extension.js:56:7853)\n",
      "    at processTicksAndRejections (node:internal/process/task_queues:95:5)\n",
      "    at FE.$executeCells (file:///c:/Users/diona/AppData/Local/Programs/Trae/resources/app/out/vs/workbench/api/node/extensionHostProcess.js:174:24139)"
     ]
    }
   ],
   "source": [
    "df_tabela1['predicao_estilo'] = clf.predict(X_dummies)\n",
    "print(df_tabela1)\n"
   ]
  }
 ],
 "metadata": {
  "kernelspec": {
   "display_name": "Python 3",
   "language": "python",
   "name": "python3"
  },
  "language_info": {
   "codemirror_mode": {
    "name": "ipython",
    "version": 3
   },
   "file_extension": ".py",
   "mimetype": "text/x-python",
   "name": "python",
   "nbconvert_exporter": "python",
   "pygments_lexer": "ipython3",
   "version": "3.13.7"
  }
 },
 "nbformat": 4,
 "nbformat_minor": 5
}
